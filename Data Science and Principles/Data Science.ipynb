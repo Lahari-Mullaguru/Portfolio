{
 "cells": [
  {
   "cell_type": "markdown",
   "id": "1212cdfe",
   "metadata": {},
   "source": [
    "# Regression and Validation"
   ]
  },
  {
   "cell_type": "markdown",
   "id": "5c8c39d6",
   "metadata": {},
   "source": [
    "**Name** - Lahari Mullaguru\n",
    "\n",
    "**URN** - 6843990\n",
    "\n",
    "**e-mail** - lm02027@surrey.ac.uk\n",
    "\n",
    "\n",
    "\n",
    "The coursework data is available in the file named \"swpg.csv\" on SurreyLearn. This CSV file comprises two columns: \"ftsw,\" which\n",
    "represents the fraction of transpirable soil water, and \"lfgr,\" which denotes the relative leaf growth. The objective is to utilize the \"ftsw\" variable to predict the values of \"lfgr.\""
   ]
  },
  {
   "cell_type": "markdown",
   "id": "8f07da8b",
   "metadata": {},
   "source": [
    "# Import the Libraries"
   ]
  },
  {
   "cell_type": "code",
   "execution_count": 2,
   "id": "b02d5098",
   "metadata": {},
   "outputs": [],
   "source": [
    "import numpy as np\n",
    "import pandas as pd\n",
    "import matplotlib.pyplot as plt\n",
    "import seaborn as sns"
   ]
  },
  {
   "cell_type": "markdown",
   "id": "8189d519",
   "metadata": {},
   "source": [
    "# Analysis of the Dataset"
   ]
  },
  {
   "cell_type": "code",
   "execution_count": 3,
   "id": "9f4e60c0",
   "metadata": {},
   "outputs": [
    {
     "data": {
      "text/plain": [
       "(20, 2)"
      ]
     },
     "execution_count": 3,
     "metadata": {},
     "output_type": "execute_result"
    }
   ],
   "source": [
    "df=pd.read_csv('swpg.csv')\n",
    "df.shape"
   ]
  },
  {
   "cell_type": "markdown",
   "id": "5b0ead6c",
   "metadata": {},
   "source": [
    "The dataset contains 20 rows and two columns."
   ]
  },
  {
   "cell_type": "markdown",
   "id": "8c7ab9ba",
   "metadata": {},
   "source": [
    "## Description of Dataset"
   ]
  },
  {
   "cell_type": "code",
   "execution_count": 4,
   "id": "5aa02776",
   "metadata": {},
   "outputs": [
    {
     "data": {
      "text/html": [
       "<div>\n",
       "<style scoped>\n",
       "    .dataframe tbody tr th:only-of-type {\n",
       "        vertical-align: middle;\n",
       "    }\n",
       "\n",
       "    .dataframe tbody tr th {\n",
       "        vertical-align: top;\n",
       "    }\n",
       "\n",
       "    .dataframe thead th {\n",
       "        text-align: right;\n",
       "    }\n",
       "</style>\n",
       "<table border=\"1\" class=\"dataframe\">\n",
       "  <thead>\n",
       "    <tr style=\"text-align: right;\">\n",
       "      <th></th>\n",
       "      <th>ftsw</th>\n",
       "      <th>lfgr</th>\n",
       "    </tr>\n",
       "  </thead>\n",
       "  <tbody>\n",
       "    <tr>\n",
       "      <th>count</th>\n",
       "      <td>20.000000</td>\n",
       "      <td>20.000000</td>\n",
       "    </tr>\n",
       "    <tr>\n",
       "      <th>mean</th>\n",
       "      <td>0.400000</td>\n",
       "      <td>0.805269</td>\n",
       "    </tr>\n",
       "    <tr>\n",
       "      <th>std</th>\n",
       "      <td>0.311257</td>\n",
       "      <td>0.352534</td>\n",
       "    </tr>\n",
       "    <tr>\n",
       "      <th>min</th>\n",
       "      <td>0.000000</td>\n",
       "      <td>0.042851</td>\n",
       "    </tr>\n",
       "    <tr>\n",
       "      <th>25%</th>\n",
       "      <td>0.158333</td>\n",
       "      <td>0.713950</td>\n",
       "    </tr>\n",
       "    <tr>\n",
       "      <th>50%</th>\n",
       "      <td>0.300000</td>\n",
       "      <td>0.957184</td>\n",
       "    </tr>\n",
       "    <tr>\n",
       "      <th>75%</th>\n",
       "      <td>0.630556</td>\n",
       "      <td>1.034758</td>\n",
       "    </tr>\n",
       "    <tr>\n",
       "      <th>max</th>\n",
       "      <td>1.000000</td>\n",
       "      <td>1.138678</td>\n",
       "    </tr>\n",
       "  </tbody>\n",
       "</table>\n",
       "</div>"
      ],
      "text/plain": [
       "            ftsw       lfgr\n",
       "count  20.000000  20.000000\n",
       "mean    0.400000   0.805269\n",
       "std     0.311257   0.352534\n",
       "min     0.000000   0.042851\n",
       "25%     0.158333   0.713950\n",
       "50%     0.300000   0.957184\n",
       "75%     0.630556   1.034758\n",
       "max     1.000000   1.138678"
      ]
     },
     "execution_count": 4,
     "metadata": {},
     "output_type": "execute_result"
    }
   ],
   "source": [
    "df.describe()"
   ]
  },
  {
   "cell_type": "markdown",
   "id": "5dc69c3b",
   "metadata": {},
   "source": [
    "## Information about Dataset"
   ]
  },
  {
   "cell_type": "code",
   "execution_count": 5,
   "id": "c281a63b",
   "metadata": {},
   "outputs": [
    {
     "name": "stdout",
     "output_type": "stream",
     "text": [
      "<class 'pandas.core.frame.DataFrame'>\n",
      "RangeIndex: 20 entries, 0 to 19\n",
      "Data columns (total 2 columns):\n",
      " #   Column  Non-Null Count  Dtype  \n",
      "---  ------  --------------  -----  \n",
      " 0   ftsw    20 non-null     float64\n",
      " 1   lfgr    20 non-null     float64\n",
      "dtypes: float64(2)\n",
      "memory usage: 452.0 bytes\n"
     ]
    }
   ],
   "source": [
    "df.info()"
   ]
  },
  {
   "cell_type": "code",
   "execution_count": 6,
   "id": "ad716067",
   "metadata": {},
   "outputs": [
    {
     "data": {
      "text/plain": [
       "ftsw    0\n",
       "lfgr    0\n",
       "dtype: int64"
      ]
     },
     "execution_count": 6,
     "metadata": {},
     "output_type": "execute_result"
    }
   ],
   "source": [
    "df.isnull().sum()"
   ]
  },
  {
   "cell_type": "markdown",
   "id": "c3bdf754",
   "metadata": {},
   "source": [
    "The dataset doesn't contain any null values. So, cleaning of data is not required."
   ]
  },
  {
   "cell_type": "code",
   "execution_count": 7,
   "id": "c3b83fe9",
   "metadata": {},
   "outputs": [
    {
     "data": {
      "text/html": [
       "<div>\n",
       "<style scoped>\n",
       "    .dataframe tbody tr th:only-of-type {\n",
       "        vertical-align: middle;\n",
       "    }\n",
       "\n",
       "    .dataframe tbody tr th {\n",
       "        vertical-align: top;\n",
       "    }\n",
       "\n",
       "    .dataframe thead th {\n",
       "        text-align: right;\n",
       "    }\n",
       "</style>\n",
       "<table border=\"1\" class=\"dataframe\">\n",
       "  <thead>\n",
       "    <tr style=\"text-align: right;\">\n",
       "      <th></th>\n",
       "      <th>ftsw</th>\n",
       "      <th>lfgr</th>\n",
       "    </tr>\n",
       "  </thead>\n",
       "  <tbody>\n",
       "    <tr>\n",
       "      <th>0</th>\n",
       "      <td>0.000000</td>\n",
       "      <td>0.042851</td>\n",
       "    </tr>\n",
       "    <tr>\n",
       "      <th>1</th>\n",
       "      <td>0.033333</td>\n",
       "      <td>0.064808</td>\n",
       "    </tr>\n",
       "    <tr>\n",
       "      <th>2</th>\n",
       "      <td>0.066667</td>\n",
       "      <td>0.222478</td>\n",
       "    </tr>\n",
       "    <tr>\n",
       "      <th>3</th>\n",
       "      <td>0.100000</td>\n",
       "      <td>0.419411</td>\n",
       "    </tr>\n",
       "    <tr>\n",
       "      <th>4</th>\n",
       "      <td>0.133333</td>\n",
       "      <td>0.500414</td>\n",
       "    </tr>\n",
       "  </tbody>\n",
       "</table>\n",
       "</div>"
      ],
      "text/plain": [
       "       ftsw      lfgr\n",
       "0  0.000000  0.042851\n",
       "1  0.033333  0.064808\n",
       "2  0.066667  0.222478\n",
       "3  0.100000  0.419411\n",
       "4  0.133333  0.500414"
      ]
     },
     "execution_count": 7,
     "metadata": {},
     "output_type": "execute_result"
    }
   ],
   "source": [
    "#prints the first five rows of dataset\n",
    "df.head()"
   ]
  },
  {
   "cell_type": "markdown",
   "id": "3db49b96",
   "metadata": {},
   "source": [
    "# Distribution of values in Dataset"
   ]
  },
  {
   "cell_type": "code",
   "execution_count": 9,
   "id": "d1911a7b",
   "metadata": {},
   "outputs": [
    {
     "data": {
      "image/png": "[encoded data removed]",
      "text/plain": [
       "<Figure size 640x480 with 1 Axes>"
      ]
     },
     "metadata": {},
     "output_type": "display_data"
    }
   ],
   "source": [
    "df.plot(x='ftsw',y='lfgr',kind='scatter')\n",
    "plt.xlabel('x')\n",
    "plt.ylabel('y')\n",
    "plt.title('Distribution of x and y values')\n",
    "plt.show()"
   ]
  },
  {
   "cell_type": "markdown",
   "id": "bc267747",
   "metadata": {},
   "source": [
    "# TASK 1"
   ]
  },
  {
   "cell_type": "markdown",
   "id": "0edc493d",
   "metadata": {},
   "source": [
    "# Linear Regression"
   ]
  },
  {
   "cell_type": "code",
   "execution_count": 10,
   "id": "c9af47ea",
   "metadata": {},
   "outputs": [
    {
     "name": "stdout",
     "output_type": "stream",
     "text": [
      "(20, 1)\n",
      "(20,)\n"
     ]
    }
   ],
   "source": [
    "x=np.array(df['ftsw'])\n",
    "x= x[:, np.newaxis]\n",
    "y=np.array(df['lfgr'])\n",
    "print(x.shape)\n",
    "print(y.shape)"
   ]
  },
  {
   "cell_type": "markdown",
   "id": "1b9c0f41",
   "metadata": {},
   "source": [
    "### Purpose of Adding an Extra Dimension:\n",
    "\n",
    "- When you load data from a DataFrame, a single column or row will typically be extracted as a one-dimensional array.\n",
    "- The expression *x[:, np.newaxis]* transforms the array from one dimension (20,) to two dimensions (20, 1).\n",
    "- This transformation ensures that the array x is not just a sequence of values but a sequence of single-element arrays, which conforms to the expected input structure for most scikit-learn estimators."
   ]
  },
  {
   "cell_type": "code",
   "execution_count": 11,
   "id": "ef729b97",
   "metadata": {},
   "outputs": [
    {
     "name": "stdout",
     "output_type": "stream",
     "text": [
      "(14, 1)\n",
      "(14,)\n"
     ]
    }
   ],
   "source": [
    "#Splitting the dataset\n",
    "from sklearn.model_selection import train_test_split\n",
    "\n",
    "lx_train, lx_test, ly_train, ly_test = train_test_split(x, y, test_size=0.3, random_state=42)\n",
    "print(lx_train.shape)\n",
    "print(ly_train.shape)"
   ]
  },
  {
   "cell_type": "code",
   "execution_count": 12,
   "id": "eb5b7ea0",
   "metadata": {},
   "outputs": [],
   "source": [
    "from sklearn.linear_model import LinearRegression\n",
    "\n",
    "# Fitting the data in linear regression model\n",
    "reg = LinearRegression().fit(lx_train, ly_train)"
   ]
  },
  {
   "cell_type": "markdown",
   "id": "4456dd89",
   "metadata": {},
   "source": [
    "## Coefficients and Intercept\n",
    "After fitting the model, the coefficients and the intercept can be extracted directly."
   ]
  },
  {
   "cell_type": "code",
   "execution_count": 13,
   "id": "3838e28a",
   "metadata": {},
   "outputs": [
    {
     "name": "stdout",
     "output_type": "stream",
     "text": [
      "Coefficient: [0.6494271]\n",
      "\n",
      "Intercept: 0.6029635418305845\n"
     ]
    }
   ],
   "source": [
    "print(\"Coefficient:\",reg.coef_)\n",
    "print(\"\\nIntercept:\",reg.intercept_)"
   ]
  },
  {
   "cell_type": "markdown",
   "id": "2ccec6a8",
   "metadata": {},
   "source": [
    "### Coefficients: \n",
    "These are accessed using the **.coef_** attribute of model object. This will give an array of the coefficients for each term in the model.\n",
    "### Intercept: \n",
    "This is accessed using the **.intercept_** attribute, which gives the constant term added to the sum of the weighted features."
   ]
  },
  {
   "cell_type": "code",
   "execution_count": 14,
   "id": "36c713b9",
   "metadata": {},
   "outputs": [
    {
     "name": "stdout",
     "output_type": "stream",
     "text": [
      "The minimising values of the parameters theta are  [0.60296354 0.6494271 ]\n"
     ]
    }
   ],
   "source": [
    "# combine theta values into one array\n",
    "theta = np.hstack((reg.intercept_, reg.coef_)) \n",
    "print(\"The minimising values of the parameters theta are \", theta)"
   ]
  },
  {
   "cell_type": "code",
   "execution_count": 15,
   "id": "915a93de",
   "metadata": {},
   "outputs": [
    {
     "name": "stdout",
     "output_type": "stream",
     "text": [
      "Predictions for the test set: [0.60296354 1.15136865 1.05034666 0.62461111 0.7761441  0.71120139]\n"
     ]
    }
   ],
   "source": [
    "#Prediction of test set\n",
    "y_pred_lfgr= reg.predict(lx_test)\n",
    "#Predicted values\n",
    "print(\"Predictions for the test set: {}\".format(y_pred_lfgr))"
   ]
  },
  {
   "cell_type": "code",
   "execution_count": 16,
   "id": "c0aa332c",
   "metadata": {},
   "outputs": [
    {
     "data": {
      "text/html": [
       "<div>\n",
       "<style scoped>\n",
       "    .dataframe tbody tr th:only-of-type {\n",
       "        vertical-align: middle;\n",
       "    }\n",
       "\n",
       "    .dataframe tbody tr th {\n",
       "        vertical-align: top;\n",
       "    }\n",
       "\n",
       "    .dataframe thead th {\n",
       "        text-align: right;\n",
       "    }\n",
       "</style>\n",
       "<table border=\"1\" class=\"dataframe\">\n",
       "  <thead>\n",
       "    <tr style=\"text-align: right;\">\n",
       "      <th></th>\n",
       "      <th>Actual lfgr</th>\n",
       "      <th>Predicted lfgr</th>\n",
       "    </tr>\n",
       "  </thead>\n",
       "  <tbody>\n",
       "    <tr>\n",
       "      <th>0</th>\n",
       "      <td>0.042851</td>\n",
       "      <td>0.602964</td>\n",
       "    </tr>\n",
       "    <tr>\n",
       "      <th>1</th>\n",
       "      <td>1.038437</td>\n",
       "      <td>1.151369</td>\n",
       "    </tr>\n",
       "    <tr>\n",
       "      <th>2</th>\n",
       "      <td>0.943869</td>\n",
       "      <td>1.050347</td>\n",
       "    </tr>\n",
       "    <tr>\n",
       "      <th>3</th>\n",
       "      <td>0.064808</td>\n",
       "      <td>0.624611</td>\n",
       "    </tr>\n",
       "    <tr>\n",
       "      <th>4</th>\n",
       "      <td>0.892240</td>\n",
       "      <td>0.776144</td>\n",
       "    </tr>\n",
       "    <tr>\n",
       "      <th>5</th>\n",
       "      <td>0.785129</td>\n",
       "      <td>0.711201</td>\n",
       "    </tr>\n",
       "  </tbody>\n",
       "</table>\n",
       "</div>"
      ],
      "text/plain": [
       "   Actual lfgr  Predicted lfgr\n",
       "0     0.042851        0.602964\n",
       "1     1.038437        1.151369\n",
       "2     0.943869        1.050347\n",
       "3     0.064808        0.624611\n",
       "4     0.892240        0.776144\n",
       "5     0.785129        0.711201"
      ]
     },
     "execution_count": 16,
     "metadata": {},
     "output_type": "execute_result"
    }
   ],
   "source": [
    "#Actual value and the predicted value\n",
    "reg_pred = pd.DataFrame({'Actual lfgr': ly_test, 'Predicted lfgr': y_pred_lfgr})\n",
    "reg_pred"
   ]
  },
  {
   "cell_type": "markdown",
   "id": "f322b232",
   "metadata": {},
   "source": [
    "## Linear Regression plot"
   ]
  },
  {
   "cell_type": "code",
   "execution_count": 17,
   "id": "aba97739",
   "metadata": {},
   "outputs": [
    {
     "data": {
      "image/png": "[encoded data removed]",
      "text/plain": [
       "<Figure size 640x480 with 1 Axes>"
      ]
     },
     "metadata": {},
     "output_type": "display_data"
    }
   ],
   "source": [
    "plt.scatter(lx_train, ly_train, color='blue', label='Train data')\n",
    "plt.scatter(lx_test, ly_test, color='green', label='Test data') \n",
    "\n",
    "# Create a range of values for x to plot the line\n",
    "x_range = np.linspace(x.min(), x.max(), 100).reshape(-1, 1)\n",
    "y_range = reg.predict(x_range)\n",
    "\n",
    "plt.plot(x_range, y_range, color='red')\n",
    "\n",
    "plt.title('Linear Regression Plot')\n",
    "plt.xlabel('ftsw')\n",
    "plt.ylabel('lfgr')\n",
    "plt.legend()\n",
    "plt.show()"
   ]
  },
  {
   "cell_type": "markdown",
   "id": "223dc1af",
   "metadata": {},
   "source": [
    "# Polynomial Regression of Degree 3"
   ]
  },
  {
   "cell_type": "code",
   "execution_count": 18,
   "id": "9429e816",
   "metadata": {},
   "outputs": [],
   "source": [
    "from sklearn.preprocessing import PolynomialFeatures\n",
    "\n",
    "x=np.array(df['ftsw'])\n",
    "x= x[:, np.newaxis]\n",
    "y=np.array(df['lfgr'])\n",
    "\n",
    "k = 3 # order of polynomial features"
   ]
  },
  {
   "cell_type": "code",
   "execution_count": 19,
   "id": "170fc019",
   "metadata": {},
   "outputs": [
    {
     "data": {
      "text/html": [
       "<style>#sk-container-id-1 {\n",
       "  /* Definition of color scheme common for light and dark mode */\n",
       "  --sklearn-color-text: black;\n",
       "  --sklearn-color-line: gray;\n",
       "  /* Definition of color scheme for unfitted estimators */\n",
       "  --sklearn-color-unfitted-level-0: #fff5e6;\n",
       "  --sklearn-color-unfitted-level-1: #f6e4d2;\n",
       "  --sklearn-color-unfitted-level-2: #ffe0b3;\n",
       "  --sklearn-color-unfitted-level-3: chocolate;\n",
       "  /* Definition of color scheme for fitted estimators */\n",
       "  --sklearn-color-fitted-level-0: #f0f8ff;\n",
       "  --sklearn-color-fitted-level-1: #d4ebff;\n",
       "  --sklearn-color-fitted-level-2: #b3dbfd;\n",
       "  --sklearn-color-fitted-level-3: cornflowerblue;\n",
       "\n",
       "  /* Specific color for light theme */\n",
       "  --sklearn-color-text-on-default-background: var(--sg-text-color, var(--theme-code-foreground, var(--jp-content-font-color1, black)));\n",
       "  --sklearn-color-background: var(--sg-background-color, var(--theme-background, var(--jp-layout-color0, white)));\n",
       "  --sklearn-color-border-box: var(--sg-text-color, var(--theme-code-foreground, var(--jp-content-font-color1, black)));\n",
       "  --sklearn-color-icon: #696969;\n",
       "\n",
       "  @media (prefers-color-scheme: dark) {\n",
       "    /* Redefinition of color scheme for dark theme */\n",
       "    --sklearn-color-text-on-default-background: var(--sg-text-color, var(--theme-code-foreground, var(--jp-content-font-color1, white)));\n",
       "    --sklearn-color-background: var(--sg-background-color, var(--theme-background, var(--jp-layout-color0, #111)));\n",
       "    --sklearn-color-border-box: var(--sg-text-color, var(--theme-code-foreground, var(--jp-content-font-color1, white)));\n",
       "    --sklearn-color-icon: #878787;\n",
       "  }\n",
       "}\n",
       "\n",
       "#sk-container-id-1 {\n",
       "  color: var(--sklearn-color-text);\n",
       "}\n",
       "\n",
       "#sk-container-id-1 pre {\n",
       "  padding: 0;\n",
       "}\n",
       "\n",
       "#sk-container-id-1 input.sk-hidden--visually {\n",
       "  border: 0;\n",
       "  clip: rect(1px 1px 1px 1px);\n",
       "  clip: rect(1px, 1px, 1px, 1px);\n",
       "  height: 1px;\n",
       "  margin: -1px;\n",
       "  overflow: hidden;\n",
       "  padding: 0;\n",
       "  position: absolute;\n",
       "  width: 1px;\n",
       "}\n",
       "\n",
       "#sk-container-id-1 div.sk-dashed-wrapped {\n",
       "  border: 1px dashed var(--sklearn-color-line);\n",
       "  margin: 0 0.4em 0.5em 0.4em;\n",
       "  box-sizing: border-box;\n",
       "  padding-bottom: 0.4em;\n",
       "  background-color: var(--sklearn-color-background);\n",
       "}\n",
       "\n",
       "#sk-container-id-1 div.sk-container {\n",
       "  /* jupyter's `normalize.less` sets `[hidden] { display: none; }`\n",
       "     but bootstrap.min.css set `[hidden] { display: none !important; }`\n",
       "     so we also need the `!important` here to be able to override the\n",
       "     default hidden behavior on the sphinx rendered scikit-learn.org.\n",
       "     See: https://github.com/scikit-learn/scikit-learn/issues/21755 */\n",
       "  display: inline-block !important;\n",
       "  position: relative;\n",
       "}\n",
       "\n",
       "#sk-container-id-1 div.sk-text-repr-fallback {\n",
       "  display: none;\n",
       "}\n",
       "\n",
       "div.sk-parallel-item,\n",
       "div.sk-serial,\n",
       "div.sk-item {\n",
       "  /* draw centered vertical line to link estimators */\n",
       "  background-image: linear-gradient(var(--sklearn-color-text-on-default-background), var(--sklearn-color-text-on-default-background));\n",
       "  background-size: 2px 100%;\n",
       "  background-repeat: no-repeat;\n",
       "  background-position: center center;\n",
       "}\n",
       "\n",
       "/* Parallel-specific style estimator block */\n",
       "\n",
       "#sk-container-id-1 div.sk-parallel-item::after {\n",
       "  content: \"\";\n",
       "  width: 100%;\n",
       "  border-bottom: 2px solid var(--sklearn-color-text-on-default-background);\n",
       "  flex-grow: 1;\n",
       "}\n",
       "\n",
       "#sk-container-id-1 div.sk-parallel {\n",
       "  display: flex;\n",
       "  align-items: stretch;\n",
       "  justify-content: center;\n",
       "  background-color: var(--sklearn-color-background);\n",
       "  position: relative;\n",
       "}\n",
       "\n",
       "#sk-container-id-1 div.sk-parallel-item {\n",
       "  display: flex;\n",
       "  flex-direction: column;\n",
       "}\n",
       "\n",
       "#sk-container-id-1 div.sk-parallel-item:first-child::after {\n",
       "  align-self: flex-end;\n",
       "  width: 50%;\n",
       "}\n",
       "\n",
       "#sk-container-id-1 div.sk-parallel-item:last-child::after {\n",
       "  align-self: flex-start;\n",
       "  width: 50%;\n",
       "}\n",
       "\n",
       "#sk-container-id-1 div.sk-parallel-item:only-child::after {\n",
       "  width: 0;\n",
       "}\n",
       "\n",
       "/* Serial-specific style estimator block */\n",
       "\n",
       "#sk-container-id-1 div.sk-serial {\n",
       "  display: flex;\n",
       "  flex-direction: column;\n",
       "  align-items: center;\n",
       "  background-color: var(--sklearn-color-background);\n",
       "  padding-right: 1em;\n",
       "  padding-left: 1em;\n",
       "}\n",
       "\n",
       "\n",
       "/* Toggleable style: style used for estimator/Pipeline/ColumnTransformer box that is\n",
       "clickable and can be expanded/collapsed.\n",
       "- Pipeline and ColumnTransformer use this feature and define the default style\n",
       "- Estimators will overwrite some part of the style using the `sk-estimator` class\n",
       "*/\n",
       "\n",
       "/* Pipeline and ColumnTransformer style (default) */\n",
       "\n",
       "#sk-container-id-1 div.sk-toggleable {\n",
       "  /* Default theme specific background. It is overwritten whether we have a\n",
       "  specific estimator or a Pipeline/ColumnTransformer */\n",
       "  background-color: var(--sklearn-color-background);\n",
       "}\n",
       "\n",
       "/* Toggleable label */\n",
       "#sk-container-id-1 label.sk-toggleable__label {\n",
       "  cursor: pointer;\n",
       "  display: block;\n",
       "  width: 100%;\n",
       "  margin-bottom: 0;\n",
       "  padding: 0.5em;\n",
       "  box-sizing: border-box;\n",
       "  text-align: center;\n",
       "}\n",
       "\n",
       "#sk-container-id-1 label.sk-toggleable__label-arrow:before {\n",
       "  /* Arrow on the left of the label */\n",
       "  content: \"▸\";\n",
       "  float: left;\n",
       "  margin-right: 0.25em;\n",
       "  color: var(--sklearn-color-icon);\n",
       "}\n",
       "\n",
       "#sk-container-id-1 label.sk-toggleable__label-arrow:hover:before {\n",
       "  color: var(--sklearn-color-text);\n",
       "}\n",
       "\n",
       "/* Toggleable content - dropdown */\n",
       "\n",
       "#sk-container-id-1 div.sk-toggleable__content {\n",
       "  max-height: 0;\n",
       "  max-width: 0;\n",
       "  overflow: hidden;\n",
       "  text-align: left;\n",
       "  /* unfitted */\n",
       "  background-color: var(--sklearn-color-unfitted-level-0);\n",
       "}\n",
       "\n",
       "#sk-container-id-1 div.sk-toggleable__content.fitted {\n",
       "  /* fitted */\n",
       "  background-color: var(--sklearn-color-fitted-level-0);\n",
       "}\n",
       "\n",
       "#sk-container-id-1 div.sk-toggleable__content pre {\n",
       "  margin: 0.2em;\n",
       "  border-radius: 0.25em;\n",
       "  color: var(--sklearn-color-text);\n",
       "  /* unfitted */\n",
       "  background-color: var(--sklearn-color-unfitted-level-0);\n",
       "}\n",
       "\n",
       "#sk-container-id-1 div.sk-toggleable__content.fitted pre {\n",
       "  /* unfitted */\n",
       "  background-color: var(--sklearn-color-fitted-level-0);\n",
       "}\n",
       "\n",
       "#sk-container-id-1 input.sk-toggleable__control:checked~div.sk-toggleable__content {\n",
       "  /* Expand drop-down */\n",
       "  max-height: 200px;\n",
       "  max-width: 100%;\n",
       "  overflow: auto;\n",
       "}\n",
       "\n",
       "#sk-container-id-1 input.sk-toggleable__control:checked~label.sk-toggleable__label-arrow:before {\n",
       "  content: \"▾\";\n",
       "}\n",
       "\n",
       "/* Pipeline/ColumnTransformer-specific style */\n",
       "\n",
       "#sk-container-id-1 div.sk-label input.sk-toggleable__control:checked~label.sk-toggleable__label {\n",
       "  color: var(--sklearn-color-text);\n",
       "  background-color: var(--sklearn-color-unfitted-level-2);\n",
       "}\n",
       "\n",
       "#sk-container-id-1 div.sk-label.fitted input.sk-toggleable__control:checked~label.sk-toggleable__label {\n",
       "  background-color: var(--sklearn-color-fitted-level-2);\n",
       "}\n",
       "\n",
       "/* Estimator-specific style */\n",
       "\n",
       "/* Colorize estimator box */\n",
       "#sk-container-id-1 div.sk-estimator input.sk-toggleable__control:checked~label.sk-toggleable__label {\n",
       "  /* unfitted */\n",
       "  background-color: var(--sklearn-color-unfitted-level-2);\n",
       "}\n",
       "\n",
       "#sk-container-id-1 div.sk-estimator.fitted input.sk-toggleable__control:checked~label.sk-toggleable__label {\n",
       "  /* fitted */\n",
       "  background-color: var(--sklearn-color-fitted-level-2);\n",
       "}\n",
       "\n",
       "#sk-container-id-1 div.sk-label label.sk-toggleable__label,\n",
       "#sk-container-id-1 div.sk-label label {\n",
       "  /* The background is the default theme color */\n",
       "  color: var(--sklearn-color-text-on-default-background);\n",
       "}\n",
       "\n",
       "/* On hover, darken the color of the background */\n",
       "#sk-container-id-1 div.sk-label:hover label.sk-toggleable__label {\n",
       "  color: var(--sklearn-color-text);\n",
       "  background-color: var(--sklearn-color-unfitted-level-2);\n",
       "}\n",
       "\n",
       "/* Label box, darken color on hover, fitted */\n",
       "#sk-container-id-1 div.sk-label.fitted:hover label.sk-toggleable__label.fitted {\n",
       "  color: var(--sklearn-color-text);\n",
       "  background-color: var(--sklearn-color-fitted-level-2);\n",
       "}\n",
       "\n",
       "/* Estimator label */\n",
       "\n",
       "#sk-container-id-1 div.sk-label label {\n",
       "  font-family: monospace;\n",
       "  font-weight: bold;\n",
       "  display: inline-block;\n",
       "  line-height: 1.2em;\n",
       "}\n",
       "\n",
       "#sk-container-id-1 div.sk-label-container {\n",
       "  text-align: center;\n",
       "}\n",
       "\n",
       "/* Estimator-specific */\n",
       "#sk-container-id-1 div.sk-estimator {\n",
       "  font-family: monospace;\n",
       "  border: 1px dotted var(--sklearn-color-border-box);\n",
       "  border-radius: 0.25em;\n",
       "  box-sizing: border-box;\n",
       "  margin-bottom: 0.5em;\n",
       "  /* unfitted */\n",
       "  background-color: var(--sklearn-color-unfitted-level-0);\n",
       "}\n",
       "\n",
       "#sk-container-id-1 div.sk-estimator.fitted {\n",
       "  /* fitted */\n",
       "  background-color: var(--sklearn-color-fitted-level-0);\n",
       "}\n",
       "\n",
       "/* on hover */\n",
       "#sk-container-id-1 div.sk-estimator:hover {\n",
       "  /* unfitted */\n",
       "  background-color: var(--sklearn-color-unfitted-level-2);\n",
       "}\n",
       "\n",
       "#sk-container-id-1 div.sk-estimator.fitted:hover {\n",
       "  /* fitted */\n",
       "  background-color: var(--sklearn-color-fitted-level-2);\n",
       "}\n",
       "\n",
       "/* Specification for estimator info (e.g. \"i\" and \"?\") */\n",
       "\n",
       "/* Common style for \"i\" and \"?\" */\n",
       "\n",
       ".sk-estimator-doc-link,\n",
       "a:link.sk-estimator-doc-link,\n",
       "a:visited.sk-estimator-doc-link {\n",
       "  float: right;\n",
       "  font-size: smaller;\n",
       "  line-height: 1em;\n",
       "  font-family: monospace;\n",
       "  background-color: var(--sklearn-color-background);\n",
       "  border-radius: 1em;\n",
       "  height: 1em;\n",
       "  width: 1em;\n",
       "  text-decoration: none !important;\n",
       "  margin-left: 1ex;\n",
       "  /* unfitted */\n",
       "  border: var(--sklearn-color-unfitted-level-1) 1pt solid;\n",
       "  color: var(--sklearn-color-unfitted-level-1);\n",
       "}\n",
       "\n",
       ".sk-estimator-doc-link.fitted,\n",
       "a:link.sk-estimator-doc-link.fitted,\n",
       "a:visited.sk-estimator-doc-link.fitted {\n",
       "  /* fitted */\n",
       "  border: var(--sklearn-color-fitted-level-1) 1pt solid;\n",
       "  color: var(--sklearn-color-fitted-level-1);\n",
       "}\n",
       "\n",
       "/* On hover */\n",
       "div.sk-estimator:hover .sk-estimator-doc-link:hover,\n",
       ".sk-estimator-doc-link:hover,\n",
       "div.sk-label-container:hover .sk-estimator-doc-link:hover,\n",
       ".sk-estimator-doc-link:hover {\n",
       "  /* unfitted */\n",
       "  background-color: var(--sklearn-color-unfitted-level-3);\n",
       "  color: var(--sklearn-color-background);\n",
       "  text-decoration: none;\n",
       "}\n",
       "\n",
       "div.sk-estimator.fitted:hover .sk-estimator-doc-link.fitted:hover,\n",
       ".sk-estimator-doc-link.fitted:hover,\n",
       "div.sk-label-container:hover .sk-estimator-doc-link.fitted:hover,\n",
       ".sk-estimator-doc-link.fitted:hover {\n",
       "  /* fitted */\n",
       "  background-color: var(--sklearn-color-fitted-level-3);\n",
       "  color: var(--sklearn-color-background);\n",
       "  text-decoration: none;\n",
       "}\n",
       "\n",
       "/* Span, style for the box shown on hovering the info icon */\n",
       ".sk-estimator-doc-link span {\n",
       "  display: none;\n",
       "  z-index: 9999;\n",
       "  position: relative;\n",
       "  font-weight: normal;\n",
       "  right: .2ex;\n",
       "  padding: .5ex;\n",
       "  margin: .5ex;\n",
       "  width: min-content;\n",
       "  min-width: 20ex;\n",
       "  max-width: 50ex;\n",
       "  color: var(--sklearn-color-text);\n",
       "  box-shadow: 2pt 2pt 4pt #999;\n",
       "  /* unfitted */\n",
       "  background: var(--sklearn-color-unfitted-level-0);\n",
       "  border: .5pt solid var(--sklearn-color-unfitted-level-3);\n",
       "}\n",
       "\n",
       ".sk-estimator-doc-link.fitted span {\n",
       "  /* fitted */\n",
       "  background: var(--sklearn-color-fitted-level-0);\n",
       "  border: var(--sklearn-color-fitted-level-3);\n",
       "}\n",
       "\n",
       ".sk-estimator-doc-link:hover span {\n",
       "  display: block;\n",
       "}\n",
       "\n",
       "/* \"?\"-specific style due to the `<a>` HTML tag */\n",
       "\n",
       "#sk-container-id-1 a.estimator_doc_link {\n",
       "  float: right;\n",
       "  font-size: 1rem;\n",
       "  line-height: 1em;\n",
       "  font-family: monospace;\n",
       "  background-color: var(--sklearn-color-background);\n",
       "  border-radius: 1rem;\n",
       "  height: 1rem;\n",
       "  width: 1rem;\n",
       "  text-decoration: none;\n",
       "  /* unfitted */\n",
       "  color: var(--sklearn-color-unfitted-level-1);\n",
       "  border: var(--sklearn-color-unfitted-level-1) 1pt solid;\n",
       "}\n",
       "\n",
       "#sk-container-id-1 a.estimator_doc_link.fitted {\n",
       "  /* fitted */\n",
       "  border: var(--sklearn-color-fitted-level-1) 1pt solid;\n",
       "  color: var(--sklearn-color-fitted-level-1);\n",
       "}\n",
       "\n",
       "/* On hover */\n",
       "#sk-container-id-1 a.estimator_doc_link:hover {\n",
       "  /* unfitted */\n",
       "  background-color: var(--sklearn-color-unfitted-level-3);\n",
       "  color: var(--sklearn-color-background);\n",
       "  text-decoration: none;\n",
       "}\n",
       "\n",
       "#sk-container-id-1 a.estimator_doc_link.fitted:hover {\n",
       "  /* fitted */\n",
       "  background-color: var(--sklearn-color-fitted-level-3);\n",
       "}\n",
       "</style><div id=\"sk-container-id-1\" class=\"sk-top-container\"><div class=\"sk-text-repr-fallback\"><pre>PolynomialFeatures(degree=3)</pre><b>In a Jupyter environment, please rerun this cell to show the HTML representation or trust the notebook. <br />On GitHub, the HTML representation is unable to render, please try loading this page with nbviewer.org.</b></div><div class=\"sk-container\" hidden><div class=\"sk-item\"><div class=\"sk-estimator  sk-toggleable\"><input class=\"sk-toggleable__control sk-hidden--visually\" id=\"sk-estimator-id-1\" type=\"checkbox\" checked><label for=\"sk-estimator-id-1\" class=\"sk-toggleable__label  sk-toggleable__label-arrow \">&nbsp;&nbsp;PolynomialFeatures<a class=\"sk-estimator-doc-link \" rel=\"noreferrer\" target=\"_blank\" href=\"https://scikit-learn.org/1.4/modules/generated/sklearn.preprocessing.PolynomialFeatures.html\">?<span>Documentation for PolynomialFeatures</span></a><span class=\"sk-estimator-doc-link \">i<span>Not fitted</span></span></label><div class=\"sk-toggleable__content \"><pre>PolynomialFeatures(degree=3)</pre></div> </div></div></div></div>"
      ],
      "text/plain": [
       "PolynomialFeatures(degree=3)"
      ]
     },
     "execution_count": 19,
     "metadata": {},
     "output_type": "execute_result"
    }
   ],
   "source": [
    "poly = PolynomialFeatures(degree=3)\n",
    "poly"
   ]
  },
  {
   "cell_type": "code",
   "execution_count": 21,
   "id": "2cb431a3",
   "metadata": {},
   "outputs": [
    {
     "name": "stdout",
     "output_type": "stream",
     "text": [
      "(14, 4)\n",
      "(6, 4)\n"
     ]
    }
   ],
   "source": [
    "x3_train_poly = poly.fit_transform(lx_train)\n",
    "x3_test_poly = poly.transform(lx_test)\n",
    "print(x3_train_poly.shape)\n",
    "print(x3_test_poly.shape)\n",
    "#print(x_train_poly)"
   ]
  },
  {
   "cell_type": "markdown",
   "id": "08f3f837",
   "metadata": {},
   "source": [
    "We should use the .transform() method instead of .fit_transform() for the test data. The .fit_transform() method fits the PolynomialFeatures transformation to the test data and then transforms it, which is incorrect because the transformation should be fitted only on the training data to avoid data leakage."
   ]
  },
  {
   "cell_type": "code",
   "execution_count": 22,
   "id": "61b9aff3",
   "metadata": {},
   "outputs": [
    {
     "data": {
      "image/png": "[encoded data removed]",
      "text/plain": [
       "<Figure size 640x480 with 1 Axes>"
      ]
     },
     "metadata": {},
     "output_type": "display_data"
    }
   ],
   "source": [
    "x_plot = poly.transform(x)\n",
    "plt.scatter(x_plot[:, 1], y) \n",
    "plt.xlabel('x')\n",
    "plt.ylabel('y')\n",
    "plt.title('Distribution of x and y values')\n",
    "plt.show()"
   ]
  },
  {
   "cell_type": "code",
   "execution_count": 23,
   "id": "c4633011",
   "metadata": {},
   "outputs": [],
   "source": [
    "# Fitting the train data\n",
    "\n",
    "poly_reg = LinearRegression()\n",
    "poly_reg.fit(x3_train_poly, ly_train)\n",
    "\n",
    "# Predictions\n",
    "y3_pred_poly = poly_reg.predict(x3_test_poly)"
   ]
  },
  {
   "cell_type": "code",
   "execution_count": 24,
   "id": "e3b385ee",
   "metadata": {},
   "outputs": [
    {
     "name": "stdout",
     "output_type": "stream",
     "text": [
      "Coefficient: [  0.           6.61022706 -11.15527937   5.80798411]\n",
      "\n",
      "Intercept: -0.14009257233627448\n"
     ]
    }
   ],
   "source": [
    "# Get coefficients and intercept\n",
    "print(\"Coefficient:\",poly_reg.coef_)\n",
    "print(\"\\nIntercept:\",poly_reg.intercept_)"
   ]
  },
  {
   "cell_type": "code",
   "execution_count": 25,
   "id": "af956f94",
   "metadata": {},
   "outputs": [
    {
     "name": "stdout",
     "output_type": "stream",
     "text": [
      "The minimising values of the parameters theta are  [ -0.14009257   0.           6.61022706 -11.15527937   5.80798411]\n"
     ]
    }
   ],
   "source": [
    "theta = np.hstack((poly_reg.intercept_, poly_reg.coef_)) # combine theta values into one array\n",
    "print(\"The minimising values of the parameters theta are \", theta)"
   ]
  },
  {
   "cell_type": "code",
   "execution_count": 26,
   "id": "c98c6995",
   "metadata": {},
   "outputs": [
    {
     "data": {
      "text/html": [
       "<div>\n",
       "<style scoped>\n",
       "    .dataframe tbody tr th:only-of-type {\n",
       "        vertical-align: middle;\n",
       "    }\n",
       "\n",
       "    .dataframe tbody tr th {\n",
       "        vertical-align: top;\n",
       "    }\n",
       "\n",
       "    .dataframe thead th {\n",
       "        text-align: right;\n",
       "    }\n",
       "</style>\n",
       "<table border=\"1\" class=\"dataframe\">\n",
       "  <thead>\n",
       "    <tr style=\"text-align: right;\">\n",
       "      <th></th>\n",
       "      <th>Actual lfgr</th>\n",
       "      <th>Predicted lfgr</th>\n",
       "    </tr>\n",
       "  </thead>\n",
       "  <tbody>\n",
       "    <tr>\n",
       "      <th>0</th>\n",
       "      <td>0.042851</td>\n",
       "      <td>-0.140093</td>\n",
       "    </tr>\n",
       "    <tr>\n",
       "      <th>1</th>\n",
       "      <td>1.038437</td>\n",
       "      <td>0.984545</td>\n",
       "    </tr>\n",
       "    <tr>\n",
       "      <th>2</th>\n",
       "      <td>0.943869</td>\n",
       "      <td>1.018454</td>\n",
       "    </tr>\n",
       "    <tr>\n",
       "      <th>3</th>\n",
       "      <td>0.064808</td>\n",
       "      <td>0.068069</td>\n",
       "    </tr>\n",
       "    <tr>\n",
       "      <th>4</th>\n",
       "      <td>0.892240</td>\n",
       "      <td>0.939507</td>\n",
       "    </tr>\n",
       "    <tr>\n",
       "      <th>5</th>\n",
       "      <td>0.785129</td>\n",
       "      <td>0.678632</td>\n",
       "    </tr>\n",
       "  </tbody>\n",
       "</table>\n",
       "</div>"
      ],
      "text/plain": [
       "   Actual lfgr  Predicted lfgr\n",
       "0     0.042851       -0.140093\n",
       "1     1.038437        0.984545\n",
       "2     0.943869        1.018454\n",
       "3     0.064808        0.068069\n",
       "4     0.892240        0.939507\n",
       "5     0.785129        0.678632"
      ]
     },
     "execution_count": 26,
     "metadata": {},
     "output_type": "execute_result"
    }
   ],
   "source": [
    "#Actual value and the predicted value\n",
    "polyreg_pred = pd.DataFrame({'Actual lfgr': ly_test, 'Predicted lfgr': y3_pred_poly})\n",
    "polyreg_pred"
   ]
  },
  {
   "cell_type": "markdown",
   "id": "b44fe5c8",
   "metadata": {},
   "source": [
    "## Polynomial  Regression Degree 3 Plot"
   ]
  },
  {
   "cell_type": "code",
   "execution_count": 27,
   "id": "d7157def",
   "metadata": {},
   "outputs": [
    {
     "data": {
      "image/png": "[encoded data removed]",
      "text/plain": [
       "<Figure size 640x480 with 1 Axes>"
      ]
     },
     "metadata": {},
     "output_type": "display_data"
    }
   ],
   "source": [
    "plt.scatter(lx_train, ly_train, color='blue', label='Train data')\n",
    "plt.scatter(lx_test, ly_test, color='green', label='Test data')\n",
    "\n",
    "# Create a range of values for x to plot the line\n",
    "x_range = np.linspace(x.min(), x.max(), 100).reshape(-1, 1)\n",
    "x_range_poly = poly.transform(x_range)\n",
    "y_range_poly = poly_reg.predict(x_range_poly)\n",
    "\n",
    "plt.plot(x_range, y_range_poly, color='red')\n",
    "\n",
    "plt.title('Polynomial Regression of degree 3')\n",
    "plt.xlabel('Independent variable')\n",
    "plt.ylabel('Dependent variable')\n",
    "plt.legend()\n",
    "plt.show()"
   ]
  },
  {
   "cell_type": "markdown",
   "id": "c94f05fc",
   "metadata": {},
   "source": [
    "## MSE over Iterations"
   ]
  },
  {
   "cell_type": "code",
   "execution_count": 31,
   "id": "746e3a0c",
   "metadata": {},
   "outputs": [
    {
     "name": "stdout",
     "output_type": "stream",
     "text": [
      "Test MSE: 0.1309878609240965\n"
     ]
    },
    {
     "data": {
      "image/png": "[encoded data removed]",
      "text/plain": [
       "<Figure size 640x480 with 1 Axes>"
      ]
     },
     "metadata": {},
     "output_type": "display_data"
    },
    {
     "name": "stdout",
     "output_type": "stream",
     "text": [
      "The minimum MSE is 0.04267865810730802\n",
      "The final theta parameter values are [ 0.66438623  0.47132197  0.1076364  -0.05888018]\n"
     ]
    }
   ],
   "source": [
    "from sklearn.metrics import mean_squared_error\n",
    "\n",
    "poly = PolynomialFeatures(degree=3)\n",
    "x_train_poly = poly.fit_transform(lx_train)\n",
    "x_test_poly = poly.transform(lx_test)\n",
    "\n",
    "# Gradient descent parameters\n",
    "theta = np.zeros(x_train_poly.shape[1])\n",
    "eta = 1e-2\n",
    "max_iterations = 1000\n",
    "MSE_values = np.zeros(max_iterations)\n",
    "\n",
    "# Define the gradient descent function for MSE\n",
    "def gradientMSE(x_poly, y, theta):\n",
    "    predictions = x_poly.dot(theta)\n",
    "    errors = predictions - y\n",
    "    gradient = 2 / x_poly.shape[0] * x_poly.T.dot(errors)\n",
    "    return gradient\n",
    "\n",
    "# Perform gradient descent\n",
    "for i in range(max_iterations):\n",
    "    theta -= eta * gradientMSE(x_train_poly, ly_train, theta)\n",
    "    MSE_values[i] = mean_squared_error(ly_train, x_train_poly.dot(theta))\n",
    "\n",
    "# Evaluation on test data\n",
    "y_pred_test = x_test_poly.dot(theta)\n",
    "test_mse = mean_squared_error(ly_test, y_pred_test)\n",
    "print(\"Test MSE:\", test_mse)\n",
    "\n",
    "# Plot MSE values over iterations\n",
    "plt.plot(range(max_iterations), MSE_values)\n",
    "plt.xlabel('Iterations')\n",
    "plt.ylabel('Mean Squared Error (MSE)')\n",
    "plt.title('MSE over Iterations')\n",
    "plt.show()\n",
    "\n",
    "# Output the results\n",
    "print(\"The minimum MSE is\", np.min(MSE_values))\n",
    "print(\"The final theta parameter values are\", theta)"
   ]
  },
  {
   "cell_type": "markdown",
   "id": "ba0f4a23",
   "metadata": {},
   "source": [
    "- The graph showing Mean Squared Error (MSE) versus the number of iterations reveals a typical learning pattern during a model's training phase. Initially, MSE drops sharply, indicating effective parameter adjustments from their starting values as the model rapidly improves in predicting the training data. This suggests an effective learning rate that enables quick error reduction.\n",
    "\n",
    "- As the training progresses, the MSE curve flattens, signaling that the model is nearing convergence and additional iterations yield increasingly smaller improvements. This phase is critical for deciding when to stop training to prevent overfitting and unnecessary computational expenditure. The stabilization of MSE at a lower level indicates the model has likely optimized its parameters to best fit the training data."
   ]
  },
  {
   "cell_type": "markdown",
   "id": "dd014796",
   "metadata": {},
   "source": [
    "# Polynomial Regression of Degree 9"
   ]
  },
  {
   "cell_type": "code",
   "execution_count": 32,
   "id": "b1c257e8",
   "metadata": {},
   "outputs": [],
   "source": [
    "x=np.array(df['ftsw'])\n",
    "x= x[:, np.newaxis]\n",
    "y=np.array(df['lfgr'])\n",
    "\n",
    "k = 9 # order of polynomial features"
   ]
  },
  {
   "cell_type": "code",
   "execution_count": 33,
   "id": "9fb823cb",
   "metadata": {},
   "outputs": [
    {
     "data": {
      "text/html": [
       "<style>#sk-container-id-2 {\n",
       "  /* Definition of color scheme common for light and dark mode */\n",
       "  --sklearn-color-text: black;\n",
       "  --sklearn-color-line: gray;\n",
       "  /* Definition of color scheme for unfitted estimators */\n",
       "  --sklearn-color-unfitted-level-0: #fff5e6;\n",
       "  --sklearn-color-unfitted-level-1: #f6e4d2;\n",
       "  --sklearn-color-unfitted-level-2: #ffe0b3;\n",
       "  --sklearn-color-unfitted-level-3: chocolate;\n",
       "  /* Definition of color scheme for fitted estimators */\n",
       "  --sklearn-color-fitted-level-0: #f0f8ff;\n",
       "  --sklearn-color-fitted-level-1: #d4ebff;\n",
       "  --sklearn-color-fitted-level-2: #b3dbfd;\n",
       "  --sklearn-color-fitted-level-3: cornflowerblue;\n",
       "\n",
       "  /* Specific color for light theme */\n",
       "  --sklearn-color-text-on-default-background: var(--sg-text-color, var(--theme-code-foreground, var(--jp-content-font-color1, black)));\n",
       "  --sklearn-color-background: var(--sg-background-color, var(--theme-background, var(--jp-layout-color0, white)));\n",
       "  --sklearn-color-border-box: var(--sg-text-color, var(--theme-code-foreground, var(--jp-content-font-color1, black)));\n",
       "  --sklearn-color-icon: #696969;\n",
       "\n",
       "  @media (prefers-color-scheme: dark) {\n",
       "    /* Redefinition of color scheme for dark theme */\n",
       "    --sklearn-color-text-on-default-background: var(--sg-text-color, var(--theme-code-foreground, var(--jp-content-font-color1, white)));\n",
       "    --sklearn-color-background: var(--sg-background-color, var(--theme-background, var(--jp-layout-color0, #111)));\n",
       "    --sklearn-color-border-box: var(--sg-text-color, var(--theme-code-foreground, var(--jp-content-font-color1, white)));\n",
       "    --sklearn-color-icon: #878787;\n",
       "  }\n",
       "}\n",
       "\n",
       "#sk-container-id-2 {\n",
       "  color: var(--sklearn-color-text);\n",
       "}\n",
       "\n",
       "#sk-container-id-2 pre {\n",
       "  padding: 0;\n",
       "}\n",
       "\n",
       "#sk-container-id-2 input.sk-hidden--visually {\n",
       "  border: 0;\n",
       "  clip: rect(1px 1px 1px 1px);\n",
       "  clip: rect(1px, 1px, 1px, 1px);\n",
       "  height: 1px;\n",
       "  margin: -1px;\n",
       "  overflow: hidden;\n",
       "  padding: 0;\n",
       "  position: absolute;\n",
       "  width: 1px;\n",
       "}\n",
       "\n",
       "#sk-container-id-2 div.sk-dashed-wrapped {\n",
       "  border: 1px dashed var(--sklearn-color-line);\n",
       "  margin: 0 0.4em 0.5em 0.4em;\n",
       "  box-sizing: border-box;\n",
       "  padding-bottom: 0.4em;\n",
       "  background-color: var(--sklearn-color-background);\n",
       "}\n",
       "\n",
       "#sk-container-id-2 div.sk-container {\n",
       "  /* jupyter's `normalize.less` sets `[hidden] { display: none; }`\n",
       "     but bootstrap.min.css set `[hidden] { display: none !important; }`\n",
       "     so we also need the `!important` here to be able to override the\n",
       "     default hidden behavior on the sphinx rendered scikit-learn.org.\n",
       "     See: https://github.com/scikit-learn/scikit-learn/issues/21755 */\n",
       "  display: inline-block !important;\n",
       "  position: relative;\n",
       "}\n",
       "\n",
       "#sk-container-id-2 div.sk-text-repr-fallback {\n",
       "  display: none;\n",
       "}\n",
       "\n",
       "div.sk-parallel-item,\n",
       "div.sk-serial,\n",
       "div.sk-item {\n",
       "  /* draw centered vertical line to link estimators */\n",
       "  background-image: linear-gradient(var(--sklearn-color-text-on-default-background), var(--sklearn-color-text-on-default-background));\n",
       "  background-size: 2px 100%;\n",
       "  background-repeat: no-repeat;\n",
       "  background-position: center center;\n",
       "}\n",
       "\n",
       "/* Parallel-specific style estimator block */\n",
       "\n",
       "#sk-container-id-2 div.sk-parallel-item::after {\n",
       "  content: \"\";\n",
       "  width: 100%;\n",
       "  border-bottom: 2px solid var(--sklearn-color-text-on-default-background);\n",
       "  flex-grow: 1;\n",
       "}\n",
       "\n",
       "#sk-container-id-2 div.sk-parallel {\n",
       "  display: flex;\n",
       "  align-items: stretch;\n",
       "  justify-content: center;\n",
       "  background-color: var(--sklearn-color-background);\n",
       "  position: relative;\n",
       "}\n",
       "\n",
       "#sk-container-id-2 div.sk-parallel-item {\n",
       "  display: flex;\n",
       "  flex-direction: column;\n",
       "}\n",
       "\n",
       "#sk-container-id-2 div.sk-parallel-item:first-child::after {\n",
       "  align-self: flex-end;\n",
       "  width: 50%;\n",
       "}\n",
       "\n",
       "#sk-container-id-2 div.sk-parallel-item:last-child::after {\n",
       "  align-self: flex-start;\n",
       "  width: 50%;\n",
       "}\n",
       "\n",
       "#sk-container-id-2 div.sk-parallel-item:only-child::after {\n",
       "  width: 0;\n",
       "}\n",
       "\n",
       "/* Serial-specific style estimator block */\n",
       "\n",
       "#sk-container-id-2 div.sk-serial {\n",
       "  display: flex;\n",
       "  flex-direction: column;\n",
       "  align-items: center;\n",
       "  background-color: var(--sklearn-color-background);\n",
       "  padding-right: 1em;\n",
       "  padding-left: 1em;\n",
       "}\n",
       "\n",
       "\n",
       "/* Toggleable style: style used for estimator/Pipeline/ColumnTransformer box that is\n",
       "clickable and can be expanded/collapsed.\n",
       "- Pipeline and ColumnTransformer use this feature and define the default style\n",
       "- Estimators will overwrite some part of the style using the `sk-estimator` class\n",
       "*/\n",
       "\n",
       "/* Pipeline and ColumnTransformer style (default) */\n",
       "\n",
       "#sk-container-id-2 div.sk-toggleable {\n",
       "  /* Default theme specific background. It is overwritten whether we have a\n",
       "  specific estimator or a Pipeline/ColumnTransformer */\n",
       "  background-color: var(--sklearn-color-background);\n",
       "}\n",
       "\n",
       "/* Toggleable label */\n",
       "#sk-container-id-2 label.sk-toggleable__label {\n",
       "  cursor: pointer;\n",
       "  display: block;\n",
       "  width: 100%;\n",
       "  margin-bottom: 0;\n",
       "  padding: 0.5em;\n",
       "  box-sizing: border-box;\n",
       "  text-align: center;\n",
       "}\n",
       "\n",
       "#sk-container-id-2 label.sk-toggleable__label-arrow:before {\n",
       "  /* Arrow on the left of the label */\n",
       "  content: \"▸\";\n",
       "  float: left;\n",
       "  margin-right: 0.25em;\n",
       "  color: var(--sklearn-color-icon);\n",
       "}\n",
       "\n",
       "#sk-container-id-2 label.sk-toggleable__label-arrow:hover:before {\n",
       "  color: var(--sklearn-color-text);\n",
       "}\n",
       "\n",
       "/* Toggleable content - dropdown */\n",
       "\n",
       "#sk-container-id-2 div.sk-toggleable__content {\n",
       "  max-height: 0;\n",
       "  max-width: 0;\n",
       "  overflow: hidden;\n",
       "  text-align: left;\n",
       "  /* unfitted */\n",
       "  background-color: var(--sklearn-color-unfitted-level-0);\n",
       "}\n",
       "\n",
       "#sk-container-id-2 div.sk-toggleable__content.fitted {\n",
       "  /* fitted */\n",
       "  background-color: var(--sklearn-color-fitted-level-0);\n",
       "}\n",
       "\n",
       "#sk-container-id-2 div.sk-toggleable__content pre {\n",
       "  margin: 0.2em;\n",
       "  border-radius: 0.25em;\n",
       "  color: var(--sklearn-color-text);\n",
       "  /* unfitted */\n",
       "  background-color: var(--sklearn-color-unfitted-level-0);\n",
       "}\n",
       "\n",
       "#sk-container-id-2 div.sk-toggleable__content.fitted pre {\n",
       "  /* unfitted */\n",
       "  background-color: var(--sklearn-color-fitted-level-0);\n",
       "}\n",
       "\n",
       "#sk-container-id-2 input.sk-toggleable__control:checked~div.sk-toggleable__content {\n",
       "  /* Expand drop-down */\n",
       "  max-height: 200px;\n",
       "  max-width: 100%;\n",
       "  overflow: auto;\n",
       "}\n",
       "\n",
       "#sk-container-id-2 input.sk-toggleable__control:checked~label.sk-toggleable__label-arrow:before {\n",
       "  content: \"▾\";\n",
       "}\n",
       "\n",
       "/* Pipeline/ColumnTransformer-specific style */\n",
       "\n",
       "#sk-container-id-2 div.sk-label input.sk-toggleable__control:checked~label.sk-toggleable__label {\n",
       "  color: var(--sklearn-color-text);\n",
       "  background-color: var(--sklearn-color-unfitted-level-2);\n",
       "}\n",
       "\n",
       "#sk-container-id-2 div.sk-label.fitted input.sk-toggleable__control:checked~label.sk-toggleable__label {\n",
       "  background-color: var(--sklearn-color-fitted-level-2);\n",
       "}\n",
       "\n",
       "/* Estimator-specific style */\n",
       "\n",
       "/* Colorize estimator box */\n",
       "#sk-container-id-2 div.sk-estimator input.sk-toggleable__control:checked~label.sk-toggleable__label {\n",
       "  /* unfitted */\n",
       "  background-color: var(--sklearn-color-unfitted-level-2);\n",
       "}\n",
       "\n",
       "#sk-container-id-2 div.sk-estimator.fitted input.sk-toggleable__control:checked~label.sk-toggleable__label {\n",
       "  /* fitted */\n",
       "  background-color: var(--sklearn-color-fitted-level-2);\n",
       "}\n",
       "\n",
       "#sk-container-id-2 div.sk-label label.sk-toggleable__label,\n",
       "#sk-container-id-2 div.sk-label label {\n",
       "  /* The background is the default theme color */\n",
       "  color: var(--sklearn-color-text-on-default-background);\n",
       "}\n",
       "\n",
       "/* On hover, darken the color of the background */\n",
       "#sk-container-id-2 div.sk-label:hover label.sk-toggleable__label {\n",
       "  color: var(--sklearn-color-text);\n",
       "  background-color: var(--sklearn-color-unfitted-level-2);\n",
       "}\n",
       "\n",
       "/* Label box, darken color on hover, fitted */\n",
       "#sk-container-id-2 div.sk-label.fitted:hover label.sk-toggleable__label.fitted {\n",
       "  color: var(--sklearn-color-text);\n",
       "  background-color: var(--sklearn-color-fitted-level-2);\n",
       "}\n",
       "\n",
       "/* Estimator label */\n",
       "\n",
       "#sk-container-id-2 div.sk-label label {\n",
       "  font-family: monospace;\n",
       "  font-weight: bold;\n",
       "  display: inline-block;\n",
       "  line-height: 1.2em;\n",
       "}\n",
       "\n",
       "#sk-container-id-2 div.sk-label-container {\n",
       "  text-align: center;\n",
       "}\n",
       "\n",
       "/* Estimator-specific */\n",
       "#sk-container-id-2 div.sk-estimator {\n",
       "  font-family: monospace;\n",
       "  border: 1px dotted var(--sklearn-color-border-box);\n",
       "  border-radius: 0.25em;\n",
       "  box-sizing: border-box;\n",
       "  margin-bottom: 0.5em;\n",
       "  /* unfitted */\n",
       "  background-color: var(--sklearn-color-unfitted-level-0);\n",
       "}\n",
       "\n",
       "#sk-container-id-2 div.sk-estimator.fitted {\n",
       "  /* fitted */\n",
       "  background-color: var(--sklearn-color-fitted-level-0);\n",
       "}\n",
       "\n",
       "/* on hover */\n",
       "#sk-container-id-2 div.sk-estimator:hover {\n",
       "  /* unfitted */\n",
       "  background-color: var(--sklearn-color-unfitted-level-2);\n",
       "}\n",
       "\n",
       "#sk-container-id-2 div.sk-estimator.fitted:hover {\n",
       "  /* fitted */\n",
       "  background-color: var(--sklearn-color-fitted-level-2);\n",
       "}\n",
       "\n",
       "/* Specification for estimator info (e.g. \"i\" and \"?\") */\n",
       "\n",
       "/* Common style for \"i\" and \"?\" */\n",
       "\n",
       ".sk-estimator-doc-link,\n",
       "a:link.sk-estimator-doc-link,\n",
       "a:visited.sk-estimator-doc-link {\n",
       "  float: right;\n",
       "  font-size: smaller;\n",
       "  line-height: 1em;\n",
       "  font-family: monospace;\n",
       "  background-color: var(--sklearn-color-background);\n",
       "  border-radius: 1em;\n",
       "  height: 1em;\n",
       "  width: 1em;\n",
       "  text-decoration: none !important;\n",
       "  margin-left: 1ex;\n",
       "  /* unfitted */\n",
       "  border: var(--sklearn-color-unfitted-level-1) 1pt solid;\n",
       "  color: var(--sklearn-color-unfitted-level-1);\n",
       "}\n",
       "\n",
       ".sk-estimator-doc-link.fitted,\n",
       "a:link.sk-estimator-doc-link.fitted,\n",
       "a:visited.sk-estimator-doc-link.fitted {\n",
       "  /* fitted */\n",
       "  border: var(--sklearn-color-fitted-level-1) 1pt solid;\n",
       "  color: var(--sklearn-color-fitted-level-1);\n",
       "}\n",
       "\n",
       "/* On hover */\n",
       "div.sk-estimator:hover .sk-estimator-doc-link:hover,\n",
       ".sk-estimator-doc-link:hover,\n",
       "div.sk-label-container:hover .sk-estimator-doc-link:hover,\n",
       ".sk-estimator-doc-link:hover {\n",
       "  /* unfitted */\n",
       "  background-color: var(--sklearn-color-unfitted-level-3);\n",
       "  color: var(--sklearn-color-background);\n",
       "  text-decoration: none;\n",
       "}\n",
       "\n",
       "div.sk-estimator.fitted:hover .sk-estimator-doc-link.fitted:hover,\n",
       ".sk-estimator-doc-link.fitted:hover,\n",
       "div.sk-label-container:hover .sk-estimator-doc-link.fitted:hover,\n",
       ".sk-estimator-doc-link.fitted:hover {\n",
       "  /* fitted */\n",
       "  background-color: var(--sklearn-color-fitted-level-3);\n",
       "  color: var(--sklearn-color-background);\n",
       "  text-decoration: none;\n",
       "}\n",
       "\n",
       "/* Span, style for the box shown on hovering the info icon */\n",
       ".sk-estimator-doc-link span {\n",
       "  display: none;\n",
       "  z-index: 9999;\n",
       "  position: relative;\n",
       "  font-weight: normal;\n",
       "  right: .2ex;\n",
       "  padding: .5ex;\n",
       "  margin: .5ex;\n",
       "  width: min-content;\n",
       "  min-width: 20ex;\n",
       "  max-width: 50ex;\n",
       "  color: var(--sklearn-color-text);\n",
       "  box-shadow: 2pt 2pt 4pt #999;\n",
       "  /* unfitted */\n",
       "  background: var(--sklearn-color-unfitted-level-0);\n",
       "  border: .5pt solid var(--sklearn-color-unfitted-level-3);\n",
       "}\n",
       "\n",
       ".sk-estimator-doc-link.fitted span {\n",
       "  /* fitted */\n",
       "  background: var(--sklearn-color-fitted-level-0);\n",
       "  border: var(--sklearn-color-fitted-level-3);\n",
       "}\n",
       "\n",
       ".sk-estimator-doc-link:hover span {\n",
       "  display: block;\n",
       "}\n",
       "\n",
       "/* \"?\"-specific style due to the `<a>` HTML tag */\n",
       "\n",
       "#sk-container-id-2 a.estimator_doc_link {\n",
       "  float: right;\n",
       "  font-size: 1rem;\n",
       "  line-height: 1em;\n",
       "  font-family: monospace;\n",
       "  background-color: var(--sklearn-color-background);\n",
       "  border-radius: 1rem;\n",
       "  height: 1rem;\n",
       "  width: 1rem;\n",
       "  text-decoration: none;\n",
       "  /* unfitted */\n",
       "  color: var(--sklearn-color-unfitted-level-1);\n",
       "  border: var(--sklearn-color-unfitted-level-1) 1pt solid;\n",
       "}\n",
       "\n",
       "#sk-container-id-2 a.estimator_doc_link.fitted {\n",
       "  /* fitted */\n",
       "  border: var(--sklearn-color-fitted-level-1) 1pt solid;\n",
       "  color: var(--sklearn-color-fitted-level-1);\n",
       "}\n",
       "\n",
       "/* On hover */\n",
       "#sk-container-id-2 a.estimator_doc_link:hover {\n",
       "  /* unfitted */\n",
       "  background-color: var(--sklearn-color-unfitted-level-3);\n",
       "  color: var(--sklearn-color-background);\n",
       "  text-decoration: none;\n",
       "}\n",
       "\n",
       "#sk-container-id-2 a.estimator_doc_link.fitted:hover {\n",
       "  /* fitted */\n",
       "  background-color: var(--sklearn-color-fitted-level-3);\n",
       "}\n",
       "</style><div id=\"sk-container-id-2\" class=\"sk-top-container\"><div class=\"sk-text-repr-fallback\"><pre>PolynomialFeatures(degree=9)</pre><b>In a Jupyter environment, please rerun this cell to show the HTML representation or trust the notebook. <br />On GitHub, the HTML representation is unable to render, please try loading this page with nbviewer.org.</b></div><div class=\"sk-container\" hidden><div class=\"sk-item\"><div class=\"sk-estimator  sk-toggleable\"><input class=\"sk-toggleable__control sk-hidden--visually\" id=\"sk-estimator-id-2\" type=\"checkbox\" checked><label for=\"sk-estimator-id-2\" class=\"sk-toggleable__label  sk-toggleable__label-arrow \">&nbsp;&nbsp;PolynomialFeatures<a class=\"sk-estimator-doc-link \" rel=\"noreferrer\" target=\"_blank\" href=\"https://scikit-learn.org/1.4/modules/generated/sklearn.preprocessing.PolynomialFeatures.html\">?<span>Documentation for PolynomialFeatures</span></a><span class=\"sk-estimator-doc-link \">i<span>Not fitted</span></span></label><div class=\"sk-toggleable__content \"><pre>PolynomialFeatures(degree=9)</pre></div> </div></div></div></div>"
      ],
      "text/plain": [
       "PolynomialFeatures(degree=9)"
      ]
     },
     "execution_count": 33,
     "metadata": {},
     "output_type": "execute_result"
    }
   ],
   "source": [
    "poly2 = PolynomialFeatures(degree=9)\n",
    "poly2"
   ]
  },
  {
   "cell_type": "code",
   "execution_count": 35,
   "id": "f4c1aff2",
   "metadata": {},
   "outputs": [
    {
     "name": "stdout",
     "output_type": "stream",
     "text": [
      "(14, 10)\n",
      "(6, 10)\n"
     ]
    }
   ],
   "source": [
    "x9_train_poly = poly2.fit_transform(lx_train)\n",
    "x9_test_poly = poly2.transform(lx_test)\n",
    "print(x9_train_poly.shape)\n",
    "print(x9_test_poly.shape)"
   ]
  },
  {
   "cell_type": "code",
   "execution_count": 36,
   "id": "0b459411",
   "metadata": {},
   "outputs": [
    {
     "data": {
      "image/png": "[encoded data removed]",
      "text/plain": [
       "<Figure size 640x480 with 1 Axes>"
      ]
     },
     "metadata": {},
     "output_type": "display_data"
    }
   ],
   "source": [
    "x_plot = poly.transform(x)\n",
    "plt.scatter(x_plot[:, 1], y) \n",
    "plt.xlabel('x')\n",
    "plt.ylabel('y')\n",
    "plt.title('Distribution of x and y values')\n",
    "plt.show()"
   ]
  },
  {
   "cell_type": "code",
   "execution_count": 37,
   "id": "fb043ab5",
   "metadata": {},
   "outputs": [],
   "source": [
    "# Fitting the data\n",
    "poly2_reg = LinearRegression()\n",
    "poly2_reg.fit(x9_train_poly, ly_train)\n",
    "y9_pred_poly = poly2_reg.predict(x9_test_poly)"
   ]
  },
  {
   "cell_type": "code",
   "execution_count": 38,
   "id": "2fae433e",
   "metadata": {},
   "outputs": [
    {
     "name": "stdout",
     "output_type": "stream",
     "text": [
      "Coefficient: [ 0.00000000e+00  1.43467766e+01 -1.41354397e+02  1.08455041e+03\n",
      " -4.74575413e+03  1.18742492e+04 -1.74785287e+04  1.49671875e+04\n",
      " -6.88234803e+03  1.30902665e+03]\n",
      "\n",
      "Intercept: -0.3418657305312447\n"
     ]
    }
   ],
   "source": [
    "print(\"Coefficient:\",poly2_reg.coef_)\n",
    "print(\"\\nIntercept:\",poly2_reg.intercept_)"
   ]
  },
  {
   "cell_type": "code",
   "execution_count": 39,
   "id": "dfe65b8b",
   "metadata": {},
   "outputs": [
    {
     "name": "stdout",
     "output_type": "stream",
     "text": [
      "The minimising values of the parameters theta are  [-3.41865731e-01  0.00000000e+00  1.43467766e+01 -1.41354397e+02\n",
      "  1.08455041e+03 -4.74575413e+03  1.18742492e+04 -1.74785287e+04\n",
      "  1.49671875e+04 -6.88234803e+03  1.30902665e+03]\n"
     ]
    }
   ],
   "source": [
    "theta = np.hstack((poly2_reg.intercept_, poly2_reg.coef_)) # combine theta values into one array\n",
    "print(\"The minimising values of the parameters theta are \", theta)"
   ]
  },
  {
   "cell_type": "code",
   "execution_count": 40,
   "id": "e5b6b0a4",
   "metadata": {},
   "outputs": [
    {
     "data": {
      "text/html": [
       "<div>\n",
       "<style scoped>\n",
       "    .dataframe tbody tr th:only-of-type {\n",
       "        vertical-align: middle;\n",
       "    }\n",
       "\n",
       "    .dataframe tbody tr th {\n",
       "        vertical-align: top;\n",
       "    }\n",
       "\n",
       "    .dataframe thead th {\n",
       "        text-align: right;\n",
       "    }\n",
       "</style>\n",
       "<table border=\"1\" class=\"dataframe\">\n",
       "  <thead>\n",
       "    <tr style=\"text-align: right;\">\n",
       "      <th></th>\n",
       "      <th>Actual lfgr</th>\n",
       "      <th>Predicted lfgr</th>\n",
       "    </tr>\n",
       "  </thead>\n",
       "  <tbody>\n",
       "    <tr>\n",
       "      <th>0</th>\n",
       "      <td>0.042851</td>\n",
       "      <td>-0.341866</td>\n",
       "    </tr>\n",
       "    <tr>\n",
       "      <th>1</th>\n",
       "      <td>1.038437</td>\n",
       "      <td>1.060116</td>\n",
       "    </tr>\n",
       "    <tr>\n",
       "      <th>2</th>\n",
       "      <td>0.943869</td>\n",
       "      <td>1.039998</td>\n",
       "    </tr>\n",
       "    <tr>\n",
       "      <th>3</th>\n",
       "      <td>0.064808</td>\n",
       "      <td>0.014075</td>\n",
       "    </tr>\n",
       "    <tr>\n",
       "      <th>4</th>\n",
       "      <td>0.892240</td>\n",
       "      <td>0.995229</td>\n",
       "    </tr>\n",
       "    <tr>\n",
       "      <th>5</th>\n",
       "      <td>0.785129</td>\n",
       "      <td>0.683884</td>\n",
       "    </tr>\n",
       "  </tbody>\n",
       "</table>\n",
       "</div>"
      ],
      "text/plain": [
       "   Actual lfgr  Predicted lfgr\n",
       "0     0.042851       -0.341866\n",
       "1     1.038437        1.060116\n",
       "2     0.943869        1.039998\n",
       "3     0.064808        0.014075\n",
       "4     0.892240        0.995229\n",
       "5     0.785129        0.683884"
      ]
     },
     "execution_count": 40,
     "metadata": {},
     "output_type": "execute_result"
    }
   ],
   "source": [
    "#Actual value and the predicted value\n",
    "polyreg_pred = pd.DataFrame({'Actual lfgr': ly_test, 'Predicted lfgr': y9_pred_poly})\n",
    "polyreg_pred"
   ]
  },
  {
   "cell_type": "markdown",
   "id": "53cc9827",
   "metadata": {},
   "source": [
    "## Polynomial Regression Degree 9 plot"
   ]
  },
  {
   "cell_type": "code",
   "execution_count": 41,
   "id": "acd1062c",
   "metadata": {},
   "outputs": [
    {
     "data": {
      "image/png": "[encoded data removed]",
      "text/plain": [
       "<Figure size 640x480 with 1 Axes>"
      ]
     },
     "metadata": {},
     "output_type": "display_data"
    }
   ],
   "source": [
    "plt.scatter(lx_train, ly_train, color='blue', label='Train data')\n",
    "plt.scatter(lx_test, ly_test, color='green', label='Test data')\n",
    "\n",
    "# Create a range of values for x to plot the line\n",
    "x_range = np.linspace(x.min(), x.max(), 100).reshape(-1, 1)\n",
    "x_range_poly = poly2.transform(x_range)\n",
    "y_range_poly = poly2_reg.predict(x_range_poly)\n",
    "\n",
    "plt.plot(x_range, y_range_poly, color='red')\n",
    "\n",
    "plt.title('Polynomial Regression of degree 9')\n",
    "plt.xlabel('Independent variable')\n",
    "plt.ylabel('Dependent variable')\n",
    "plt.legend()\n",
    "plt.show()"
   ]
  },
  {
   "cell_type": "markdown",
   "id": "91e5e98f",
   "metadata": {},
   "source": [
    "## MSE over Iterations"
   ]
  },
  {
   "cell_type": "code",
   "execution_count": 42,
   "id": "b3657c07",
   "metadata": {},
   "outputs": [
    {
     "name": "stdout",
     "output_type": "stream",
     "text": [
      "Test MSE: 0.12649898429995443\n"
     ]
    },
    {
     "data": {
      "image/png": "[encoded data removed]",
      "text/plain": [
       "<Figure size 640x480 with 1 Axes>"
      ]
     },
     "metadata": {},
     "output_type": "display_data"
    },
    {
     "name": "stdout",
     "output_type": "stream",
     "text": [
      "The minimum MSE is 0.03759822560430883\n",
      "The final theta parameter values are [ 0.64383997  0.52717651  0.19588989  0.04486465 -0.01956614 -0.04876702\n",
      " -0.06322992 -0.07113094 -0.07591415 -0.07912216]\n"
     ]
    }
   ],
   "source": [
    "from sklearn.metrics import mean_squared_error\n",
    "\n",
    "poly = PolynomialFeatures(degree=9)\n",
    "x_train_poly = poly.fit_transform(lx_train)\n",
    "x_test_poly = poly.transform(lx_test)\n",
    "\n",
    "# Gradient descent parameters\n",
    "theta = np.zeros(x9_train_poly.shape[1])\n",
    "eta = 1e-2\n",
    "max_iterations = 1000\n",
    "MSE_values = np.zeros(max_iterations)\n",
    "\n",
    "# Define the gradient descent function for MSE\n",
    "def gradientMSE(x_poly, y, theta):\n",
    "    predictions = x_poly.dot(theta)\n",
    "    errors = predictions - y\n",
    "    gradient = 2 / x_poly.shape[0] * x_poly.T.dot(errors)\n",
    "    return gradient\n",
    "\n",
    "# Perform gradient descent\n",
    "for i in range(max_iterations):\n",
    "    theta -= eta * gradientMSE(x9_train_poly, ly_train, theta)\n",
    "    MSE_values[i] = mean_squared_error(ly_train, x9_train_poly.dot(theta))\n",
    "\n",
    "# Evaluation on test data\n",
    "y_pred_test = x_test_poly.dot(theta)\n",
    "test_mse = mean_squared_error(ly_test, y_pred_test)\n",
    "print(\"Test MSE:\", test_mse)\n",
    "\n",
    "# Plot MSE values over iterations\n",
    "plt.plot(range(max_iterations), MSE_values)\n",
    "plt.xlabel('Iterations')\n",
    "plt.ylabel('Mean Squared Error (MSE)')\n",
    "plt.title('MSE over Iterations')\n",
    "plt.show()\n",
    "\n",
    "# Output the results\n",
    "print(\"The minimum MSE is\", np.min(MSE_values))\n",
    "print(\"The final theta parameter values are\", theta)"
   ]
  },
  {
   "cell_type": "markdown",
   "id": "ac427f69",
   "metadata": {},
   "source": [
    "# TASK 2"
   ]
  },
  {
   "cell_type": "markdown",
   "id": "092b2431",
   "metadata": {},
   "source": [
    "## Evaluation of performance using Metrics"
   ]
  },
  {
   "cell_type": "markdown",
   "id": "e2701e93",
   "metadata": {},
   "source": [
    "## Linear Regression"
   ]
  },
  {
   "cell_type": "code",
   "execution_count": 43,
   "id": "20df5586",
   "metadata": {},
   "outputs": [
    {
     "name": "stdout",
     "output_type": "stream",
     "text": [
      "Training data Metrics:\n",
      "MSE: 0.04078057967062276\n",
      "RMSE: 0.20194202056685173\n",
      "MAE: 0.17343639517068551\n",
      "R-squared: 0.46607246596419594\n",
      "\n",
      "Testing data Metrics:\n",
      "MSE: 0.1116900577085899\n",
      "RMSE: 0.3342006249374616\n",
      "MAE: 0.25489132204288384\n",
      "R-squared: 0.34449659280736955\n"
     ]
    }
   ],
   "source": [
    "from sklearn.metrics import mean_squared_error, mean_absolute_error, r2_score, root_mean_squared_error\n",
    "\n",
    "# Predictions\n",
    "y_train_pred = reg.predict(lx_train)\n",
    "y_test_pred = reg.predict(lx_test)\n",
    "\n",
    "# Calculate metrics for training data\n",
    "li_mse_train = mean_squared_error(ly_train, y_train_pred)\n",
    "li_rmse_train = root_mean_squared_error(ly_train, y_train_pred)\n",
    "li_mae_train = mean_absolute_error(ly_train, y_train_pred)\n",
    "li_r2_train = r2_score(ly_train, y_train_pred)\n",
    "\n",
    "# Calculate metrics for testing data\n",
    "li_mse_test = mean_squared_error(ly_test, y_test_pred)\n",
    "li_rmse_test = root_mean_squared_error(ly_test, y_test_pred)\n",
    "li_mae_test = mean_absolute_error(ly_test, y_test_pred)\n",
    "li_r2_test = r2_score(ly_test, y_test_pred)\n",
    "\n",
    "# Printing the metrics\n",
    "print(\"Training data Metrics:\")\n",
    "print(\"MSE:\", li_mse_train)\n",
    "print(\"RMSE:\", li_rmse_train)\n",
    "print(\"MAE:\", li_mae_train)\n",
    "print(\"R-squared:\", li_r2_train)\n",
    "\n",
    "print(\"\\nTesting data Metrics:\")\n",
    "print(\"MSE:\", li_mse_test)\n",
    "print(\"RMSE:\", li_rmse_test)\n",
    "print(\"MAE:\", li_mae_test)\n",
    "print(\"R-squared:\", li_r2_test)"
   ]
  },
  {
   "cell_type": "markdown",
   "id": "d2b88513",
   "metadata": {},
   "source": [
    "## Explanation of metrics:\n",
    "The metrics MSE, RMSE, MAE, and R-squared are standard measures used to evaluate the performance of regression models. Each metric provides a different perspective on how well the model predicts the target variable.\n",
    "\n",
    "**1. MSE (Mean Squared Error)**\n",
    "\n",
    "   - It measures the average of the squares of the errors between predicted and actual values.\n",
    "   \n",
    "   - A lower MSE indicates better model performance with less deviation from actual values. High MSE implies larger error magnitudes.\n",
    "   \n",
    "**2. RMSE (Root Mean Squared Error)**\n",
    "\n",
    "   - It is the square root of MSE.\n",
    "   \n",
    "   - RMSE provides error magnitude in the same units as the target variable, making it more interpretable than MSE. Like MSE, a lower RMSE value indicates a better model.\n",
    "   \n",
    "**3. MAE (Mean Absolute Error)**\n",
    "\n",
    "   - It measures the average of the absolute differences between predicted and actual values.\n",
    "   \n",
    "   - MAE gives a direct idea of the error magnitude without squaring the differences, thus not overly penalizing larger errors compared to RMSE. Lower MAE indicates better accuracy.\n",
    "   \n",
    "**4. R-squared (Coefficient of Determination)**\n",
    "\n",
    "   - It measures the proportion of variance in the dependent variable that is predictable from the independent variables.\n",
    "   \n",
    "   - R-squared values range from 0 to 1, with higher values generally indicating a better fit of the model to the data. An R-squared of 1 means the model perfectly predicts the target variable.\n",
    "   \n",
    "- The training data results show moderate errors (MSE, RMSE, MAE) and a somewhat low R-squared, suggesting that the model explains less than half of the variance in the target variable. This could indicate underfitting, where the model is not complex enough to capture all the patterns in the training data.\n",
    "\n",
    "- The test data results reveal higher errors and a lower R-squared compared to the training metrics. This further indicates that the model’s ability to generalize to unseen data is limited, confirming potential underfitting or that the model’s assumptions and features are not capturing the underlying trends effectively.\n",
    "\n",
    "### Conclusion \n",
    "The model shows a drop in performance from training to testing, with all metrics indicating worse results on unseen data which indicates **underfitting** i.e, the model may be too simple, lacking the necessary complexity to capture the underlying relationships in the data adequately."
   ]
  },
  {
   "cell_type": "markdown",
   "id": "11233731",
   "metadata": {},
   "source": [
    "## Polynomial Regression of Degree 3"
   ]
  },
  {
   "cell_type": "code",
   "execution_count": 44,
   "id": "90cc5a4d",
   "metadata": {},
   "outputs": [
    {
     "name": "stdout",
     "output_type": "stream",
     "text": [
      "Training Data Metrics:\n",
      "MSE: 0.00426934883681187\n",
      "RMSE: 0.06534025433690835\n",
      "MAE: 0.05368320418119332\n",
      "R-squared: 0.9441027343213638\n",
      "\n",
      "Testing Data Metrics:\n",
      "MSE: 0.009253686627022055\n",
      "RMSE: 0.09619608426033803\n",
      "MAE: 0.07807437199612968\n",
      "R-squared: 0.9456905723074103\n"
     ]
    }
   ],
   "source": [
    "# Generate predictions\n",
    "y_train_pred = poly_reg.predict(x3_train_poly)\n",
    "y_test_pred = poly_reg.predict(x3_test_poly)\n",
    "\n",
    "# Calculate Mean Squared Error (MSE)\n",
    "p3_mse_train = mean_squared_error(ly_train, y_train_pred)\n",
    "p3_mse_test = mean_squared_error(ly_test, y_test_pred)\n",
    "\n",
    "# Calculate Root Mean Squared Error (RMSE)\n",
    "p3_rmse_test =  root_mean_squared_error(ly_test, y_test_pred)\n",
    "p3_rmse_train = root_mean_squared_error(ly_train, y_train_pred)\n",
    "# Calculate Mean Absolute Error (MAE)\n",
    "p3_mae_train = mean_absolute_error(ly_train, y_train_pred)\n",
    "p3_mae_test = mean_absolute_error(ly_test, y_test_pred)\n",
    "\n",
    "# Calculate R-squared\n",
    "p3_r2_train = r2_score(ly_train, y_train_pred)\n",
    "p3_r2_test = r2_score(ly_test, y_test_pred)\n",
    "\n",
    "# Print metrics\n",
    "print(\"Training Data Metrics:\")\n",
    "print(\"MSE:\", p3_mse_train)\n",
    "print(\"RMSE:\", p3_rmse_train)\n",
    "print(\"MAE:\", p3_mae_train)\n",
    "print(\"R-squared:\", p3_r2_train)\n",
    "\n",
    "print(\"\\nTesting Data Metrics:\")\n",
    "print(\"MSE:\", p3_mse_test)\n",
    "print(\"RMSE:\", p3_rmse_test)\n",
    "print(\"MAE:\", p3_mae_test)\n",
    "print(\"R-squared:\", p3_r2_test)"
   ]
  },
  {
   "cell_type": "markdown",
   "id": "f99cebf3",
   "metadata": {},
   "source": [
    "- The model's performance, reflected through training and testing metrics, exhibits best accuracy and excellent generalizability. For the training data, the MSE, RMSE, and MAE are impressively low, and the R-squared value is exceptionally high at 0.9441. These metrics indicate that the model achieves a **near-perfect fit**, capturing approximately 94.41% of the variance in the training data. This indicates that the model effectively captures the underlying patterns and complexities of the training data.\n",
    "\n",
    "- On the testing data metrics, MSE, RMSE, and MAE values are relatively low, suggesting that the model maintains good predictive accuracy on unseen data. Remarkably, the R-squared value for the test data is even higher than for the training data, at 0.9457. This suggests that the model not only performs well in a controlled training environment but also excels when applied to new datasets, thereby confirming its ability to generalize well. Such high performance on both training and testing sets indicates that the model is **well-tuned** and **best-fit**."
   ]
  },
  {
   "cell_type": "markdown",
   "id": "47093685",
   "metadata": {},
   "source": [
    "# Polynomial Regression of Degree 9"
   ]
  },
  {
   "cell_type": "code",
   "execution_count": 45,
   "id": "ab8ecac0",
   "metadata": {},
   "outputs": [
    {
     "name": "stdout",
     "output_type": "stream",
     "text": [
      "Training Data Metrics:\n",
      "MSE: 0.0012211494140611334\n",
      "RMSE: 0.03494494833393138\n",
      "MAE: 0.022723283380213684\n",
      "R-squared: 0.9840118678889547\n",
      "\n",
      "Testing Data Metrics:\n",
      "MSE: 0.03019147699157865\n",
      "RMSE: 0.1737569480382832\n",
      "MAE: 0.12624863797092398\n",
      "R-squared: 0.8228077194857099\n"
     ]
    }
   ],
   "source": [
    "# Generate predictions\n",
    "y_train_pred = poly2_reg.predict(x9_train_poly)\n",
    "y_test_pred = poly2_reg.predict(x9_test_poly)\n",
    "\n",
    "# Calculate Mean Squared Error (MSE)\n",
    "p9_mse_train = mean_squared_error(ly_train, y_train_pred)\n",
    "p9_mse_test = mean_squared_error(ly_test, y_test_pred)\n",
    "\n",
    "# Calculate Root Mean Squared Error (RMSE)\n",
    "p9_rmse_test =  root_mean_squared_error(ly_test, y_test_pred)\n",
    "p9_rmse_train = root_mean_squared_error(ly_train, y_train_pred)\n",
    "# Calculate Mean Absolute Error (MAE)\n",
    "p9_mae_train = mean_absolute_error(ly_train, y_train_pred)\n",
    "p9_mae_test = mean_absolute_error(ly_test, y_test_pred)\n",
    "\n",
    "# Calculate R-squared\n",
    "p9_r2_train = r2_score(ly_train, y_train_pred)\n",
    "p9_r2_test = r2_score(ly_test, y_test_pred)\n",
    "\n",
    "# Print metrics\n",
    "print(\"Training Data Metrics:\")\n",
    "print(\"MSE:\", p9_mse_train)\n",
    "print(\"RMSE:\", p9_rmse_train)\n",
    "print(\"MAE:\", p9_mae_train)\n",
    "print(\"R-squared:\", p9_r2_train)\n",
    "\n",
    "print(\"\\nTesting Data Metrics:\")\n",
    "print(\"MSE:\", p9_mse_test)\n",
    "print(\"RMSE:\", p9_rmse_test)\n",
    "print(\"MAE:\", p9_mae_test)\n",
    "print(\"R-squared:\", p9_r2_test)"
   ]
  },
  {
   "cell_type": "markdown",
   "id": "8de5a58e",
   "metadata": {},
   "source": [
    "- For the training data, MSE, RMSE, and MAE are exceptionally low, accompanied by an extremely high R-squared value of 0.9840. These values indicate that the model provides an almost perfect fit to the training data, capturing approximately 98.4% of the variance. Such metrics suggest that the model has effectively learned the patterns and nuances of the training set, potentially to the point of **overfitting** given the very high level of fit.\n",
    "\n",
    "- However, when evaluating the testing data metrics, there is a notable increase in error metrics (MSE, RMSE, and MAE) and a significant drop in the R-squared value to 0.8228. While an R-squared of 0.8228 still indicates a strong predictive performance, capturing about 82.28% of the variance in the test dataset, the relative increase in error metrics compared to the training data suggests that the model does not generalize as effectively to unseen data. This performance degradation could be indicative of the model **overfitting** the training data, where it learns specific details and noise not applicable to the broader dataset. This is evidenced by its high precision in training predictions and diminished accuracy in test predictions, a classic sign of overfitting in machine learning models."
   ]
  },
  {
   "cell_type": "markdown",
   "id": "647ca52f",
   "metadata": {},
   "source": [
    "# Cross-Validation"
   ]
  },
  {
   "cell_type": "code",
   "execution_count": 46,
   "id": "2e71dc3b",
   "metadata": {},
   "outputs": [
    {
     "name": "stdout",
     "output_type": "stream",
     "text": [
      "Average R-squared for Linear Regression: -1.3267654920587586\n",
      "Average R-squared for Polynomial Regression (degree 3): 0.6555557800242481\n",
      "Average R-squared for Polynomial Regression (degree 9): 0.11090151857968551\n"
     ]
    }
   ],
   "source": [
    "import numpy as np\n",
    "from sklearn.model_selection import cross_val_score, KFold\n",
    "from sklearn.pipeline import make_pipeline\n",
    "\n",
    "X = df[['ftsw']].values  # Make sure it's a 2D array for sklearn\n",
    "y = df['lfgr'].values\n",
    "\n",
    "# Setting up KFold cross-validation\n",
    "kf = KFold(n_splits=5, shuffle=True, random_state=42)\n",
    "\n",
    "# Linear regression model\n",
    "linear_scores = cross_val_score(LinearRegression(), X, y, cv=kf, scoring='r2')\n",
    "\n",
    "# Polynomial regression model of degree 3\n",
    "poly3_pipeline = make_pipeline(PolynomialFeatures(degree=3), LinearRegression())\n",
    "poly3_scores = cross_val_score(poly3_pipeline, X, y, cv=kf, scoring='r2')\n",
    "\n",
    "# Polynomial regression model of degree 9\n",
    "poly9_pipeline = make_pipeline(PolynomialFeatures(degree=9), LinearRegression())\n",
    "poly9_scores = cross_val_score(poly9_pipeline, X, y, cv=kf, scoring='r2')\n",
    "\n",
    "# Print average R-squared scores for each model\n",
    "print(\"Average R-squared for Linear Regression:\", np.mean(linear_scores))\n",
    "print(\"Average R-squared for Polynomial Regression (degree 3):\", np.mean(poly3_scores))\n",
    "print(\"Average R-squared for Polynomial Regression (degree 9):\", np.mean(poly9_scores))"
   ]
  },
  {
   "cell_type": "markdown",
   "id": "9d226160",
   "metadata": {},
   "source": [
    "- **Overfitting Detection:** Cross-validation is more effective at detecting overfitting than a simple train-test split. When you fit a high-degree polynomial model (like degree 9), it tends to learn not just the underlying pattern but also the noise specific to your training data. This model might perform well on one particular split of the data (your test set), but when the model is evaluated across multiple different splits (as in cross-validation), the tendency to overfit becomes apparent. Each fold in cross-validation uses different subsets of data for training and testing, exposing the model to various scenarios.\n",
    "\n",
    "- **Variability in Small Datasets:** With a small dataset, each fold in a cross-validation process might represent a significantly different statistical profile. A degree 9 polynomial model, which is highly sensitive to slight variations in data, might fit some of these folds poorly if those particular subsets of data don't represent the general trend well, resulting in lower average R-squared values across folds.\n",
    "\n",
    "- **Generalization Capability:** Cross-validation provides a better measure of how well the model generalizes to unseen data. If cross-validation shows a lower R-squared value, it suggests that the model, despite fitting the training set very well, might not perform consistently across different sets of data."
   ]
  },
  {
   "cell_type": "markdown",
   "id": "cd3c61a2",
   "metadata": {},
   "source": [
    "# TASK 3"
   ]
  },
  {
   "cell_type": "markdown",
   "id": "57aecd1b",
   "metadata": {},
   "source": [
    "# Comparison of Regression Models"
   ]
  },
  {
   "cell_type": "code",
   "execution_count": 51,
   "id": "09031c7c",
   "metadata": {},
   "outputs": [
    {
     "data": {
      "image/png": "[encoded data removed]",
      "text/plain": [
       "<Figure size 640x480 with 1 Axes>"
      ]
     },
     "metadata": {},
     "output_type": "display_data"
    }
   ],
   "source": [
    "# Initialize polynomial features and regression models\n",
    "poly = PolynomialFeatures(degree=3)\n",
    "poly2 = PolynomialFeatures(degree=9)\n",
    "poly_reg = LinearRegression()\n",
    "poly2_reg = LinearRegression()\n",
    "reg = LinearRegression()\n",
    "\n",
    "# Degree 3 polynomial\n",
    "x_train_poly3 = poly.fit_transform(lx_train)\n",
    "poly_reg.fit(x_train_poly3, ly_train)\n",
    "\n",
    "# Degree 9 polynomial\n",
    "x_train_poly9 = poly2.fit_transform(lx_train)\n",
    "poly2_reg.fit(x_train_poly9, ly_train)\n",
    "\n",
    "# Linear model\n",
    "reg.fit(lx_train, ly_train)\n",
    "\n",
    "\n",
    "# Scatter plot of the training and testing data\n",
    "plt.scatter(lx_train, ly_train, color='blue', label='Train data')\n",
    "plt.scatter(lx_test, ly_test, color='green', label='Test data')\n",
    "\n",
    "# Range of values for plotting the models' predictions\n",
    "x_range = np.linspace(x.min(), x.max(), 100).reshape(-1, 1)\n",
    "\n",
    "# Predictions from the linear regression model\n",
    "y_range_linear = reg.predict(x_range)\n",
    "plt.plot(x_range, y_range_linear, color='red', label='Linear Regression')\n",
    "\n",
    "# Transform and Predictions from the polynomial degree 3 model\n",
    "x_range_poly3 = poly.transform(x_range)  # Assuming 'poly' is fitted with degree=3\n",
    "y_range_poly3 = poly_reg.predict(x_range_poly3)  # 'poly_reg' is the regressor for degree 3\n",
    "plt.plot(x_range, y_range_poly3, color='purple', label='Polynomial Degree 3')\n",
    "\n",
    "# Transform and Predictions from the polynomial degree 9 model\n",
    "x_range_poly9 = poly2.transform(x_range)  # Assuming 'poly2' is fitted with degree=9\n",
    "y_range_poly9 = poly2_reg.predict(x_range_poly9)  # 'poly2_reg' is the regressor for degree 9\n",
    "plt.plot(x_range, y_range_poly9, color='orange', label='Polynomial Degree 9')\n",
    "\n",
    "# Plot settings\n",
    "plt.title('Comparison of Regression Models')\n",
    "plt.xlabel('ftsw (Fraction of Transpirable Soil Water)')\n",
    "plt.ylabel('lfgr (Relative Leaf Growth)')\n",
    "plt.legend()\n",
    "plt.show()"
   ]
  },
  {
   "cell_type": "markdown",
   "id": "a0cd8ea7",
   "metadata": {},
   "source": [
    "### Linear Regression\n",
    "\n",
    "- **Performance:** The linear regression model does not capture the non-linear relationship between ftsw and lfgr. The line is  straight and does not follow the evident curved trend displayed by the data points.\n",
    "- **Underfitting:** This model is likely underfitting the data. Underfitting occurs when a model is too simple to capture the underlying pattern of the data. It is characterized by a high bias and low variance, leading to poor performance on both training and test data, as the model cannot account for the complexity of the data.\n",
    "\n",
    "### Polynomial Regression Degree 3\n",
    "\n",
    "- **Performance:** The degree 3 polynomial appears to fit the data much better than the linear model. It captures the curvature of the data points, reflecting the underlying pattern more accurately without fitting excessively to minor fluctuations or noise.\n",
    "- **Good Fit:** This model strikes a good balance between bias and variance. It is complex enough to understand the underlying trends in the data without being swayed by noise. There is no apparent sign of overfitting or underfitting, as it generalizes well to the test data (assuming the green points in the plot represent test data).\n",
    "\n",
    "### Polynomial Regression Degree 9\n",
    "- **Performance:** The degree 9 polynomial fits the training data points almost perfectly, as evidenced by its path through nearly every point.\n",
    "- **Overfitting:** This model is overfitting the data. Overfitting happens when a model is too complex, capturing noise and anomalies in the training data, which should not generalize to unseen data. The erratic behavior towards the extremes of the ftsw scale, especially near 1.0, is a classic indication of overfitting. Such a model will likely perform poorly on new, unseen data because it is overly tailored to the specific sample it was trained on.\n",
    "\n",
    "### Conclusion:\n",
    "Choosing the right complexity for a model is crucial. The degree 3 polynomial regression model is the most appropriate among the three for this dataset. It provides a good generalization capability, which is what predictive modeling aims for — excellent performance on unseen data. The linear model's lack of flexibility and the degree 9 model's excessive complexity demonstrate the balance that needs to be achieved for optimal machine learning model performance."
   ]
  },
  {
   "cell_type": "markdown",
   "id": "7a65e618",
   "metadata": {},
   "source": [
    "## Comparing MSE value and Degree of Regression"
   ]
  },
  {
   "cell_type": "code",
   "execution_count": 52,
   "id": "542bd6f6",
   "metadata": {
    "scrolled": false
   },
   "outputs": [
    {
     "data": {
      "image/png": "[encoded data removed]",
      "text/plain": [
       "<Figure size 640x480 with 1 Axes>"
      ]
     },
     "metadata": {},
     "output_type": "display_data"
    }
   ],
   "source": [
    "x=np.array(df['ftsw'])\n",
    "y=np.array(df['lfgr'])\n",
    "\n",
    "x_train, x_test, y_train, y_test = train_test_split(x, y, test_size=0.3, random_state=42)\n",
    "\n",
    "# Function to compute MSE\n",
    "def MSE(X, y, theta):\n",
    "    predictions = X.dot(theta[1:]) + theta[0]\n",
    "    return np.mean((y - predictions) ** 2)\n",
    "\n",
    "# Function to fit and evaluate polynomial regression\n",
    "def FitAndEvaluate(degree):\n",
    "    poly = PolynomialFeatures(degree)\n",
    "    X_train = poly.fit_transform(x_train[:, np.newaxis])\n",
    "    X_test = poly.transform(x_test[:, np.newaxis])\n",
    "    \n",
    "    lin_reg = LinearRegression()\n",
    "    lin_reg.fit(X_train, y_train)\n",
    "    \n",
    "    theta = np.hstack((lin_reg.intercept_, lin_reg.coef_))\n",
    "    return MSE(X_train, y_train, theta), MSE(X_test, y_test, theta)\n",
    "\n",
    "# Initialize variables for the maximum degree\n",
    "max_degree = 10\n",
    "MSE_train = np.zeros(max_degree - 1)\n",
    "MSE_test = np.zeros(max_degree - 1)\n",
    "\n",
    "# Calculate MSE for each polynomial degree\n",
    "for degree in range(1, max_degree):\n",
    "    MSE_train[degree - 1], MSE_test[degree - 1] = FitAndEvaluate(degree)\n",
    "\n",
    "# Plotting the results\n",
    "fig, ax = plt.subplots(1, 1)\n",
    "degree_range = range(1, max_degree)\n",
    "ax.plot(degree_range, MSE_train, 'b', label='MSE_train')\n",
    "ax.plot(degree_range, MSE_test, 'g', label='MSE_test')\n",
    "ax.set_xticks(degree_range)\n",
    "ax.set_xlabel('Degree')\n",
    "ax.set_ylabel('MSE')\n",
    "ax.legend()\n",
    "plt.show()"
   ]
  },
  {
   "cell_type": "markdown",
   "id": "adbce38f",
   "metadata": {},
   "source": [
    "### Observations:\n",
    "\n",
    "- **Training MSE:** The MSE for the training data generally decreases as the degree of the polynomial increases. This is expected as more complex models can fit the training data better, capturing more of its nuances and reducing error.\n",
    "- **Testing MSE:** The MSE for the testing data also decreases initially as the model complexity increases but shows a different trend as the degree goes beyond 3.\n",
    "\n",
    "### Optimal Point (Degree 3):\n",
    "\n",
    "The testing MSE decreases initially, reaching a minimum at degree 3, and then increases, dips slightly at degree 6, and begins rising again. This suggests that a polynomial of degree 3 is potentially the optimal complexity for this dataset as it provides the best generalization before the model starts to overfit.\n",
    "\n",
    "### Overfitting Beyond Optimal Degree:\n",
    "\n",
    "Beyond degree 3, the MSE for the testing data starts to increase despite further decreases or steadiness in the training MSE. This is indicative of overfitting, where the model starts to learn not only the underlying data patterns but also the noise specific to the training set. This does not generalize well, hence the increase in MSE when the model is applied to the test set.\n",
    "Notably, the dip in MSE at degree 6 might suggest a temporary alignment where the model's complexity captures some broader patterns that are also present in the test data but rises again as the model complexity continues to increase.\n",
    "\n",
    "### Underfitting at Very Low Degrees:\n",
    "\n",
    "At degree 1 (and to some extent, degree 2), both the training and testing MSEs are relatively high compared to more complex models, indicating underfitting. The model is too simple to capture the necessary patterns in the data."
   ]
  },
  {
   "cell_type": "markdown",
   "id": "26ee3fd0",
   "metadata": {},
   "source": [
    "# TASK 4"
   ]
  },
  {
   "cell_type": "markdown",
   "id": "6af5f51d",
   "metadata": {},
   "source": [
    "# Comparison of Regression models by metrics"
   ]
  },
  {
   "cell_type": "code",
   "execution_count": 53,
   "id": "b9719195",
   "metadata": {},
   "outputs": [
    {
     "data": {
      "image/png": "[encoded data removed]",
      "text/plain": [
       "<Figure size 640x480 with 1 Axes>"
      ]
     },
     "metadata": {},
     "output_type": "display_data"
    }
   ],
   "source": [
    "# values of metrics\n",
    "\n",
    "metrics = {\n",
    "    'Linear Regression': {'MSE': li_mse_test, 'RMSE': li_rmse_test, 'MAE': li_mae_test, 'R2': li_r2_test},\n",
    "    'Polynomial Degree 3': {'MSE': p3_mse_test, 'RMSE': p3_rmse_test, 'MAE': p3_mae_test, 'R2': p3_r2_test},\n",
    "    'Polynomial Degree 9': {'MSE': p9_mse_test, 'RMSE': p9_rmse_test, 'MAE': p9_mae_test, 'R2': p9_r2_test}\n",
    "}\n",
    "\n",
    "# Prepare the metric names from any one of the entries\n",
    "metric_names = list(metrics['Linear Regression'].keys())\n",
    "n_groups = len(metric_names)\n",
    "index = np.arange(n_groups)\n",
    "bar_width = 0.25\n",
    "\n",
    "fig, ax = plt.subplots()\n",
    "\n",
    "# Plot each set of metrics\n",
    "for i, (model_name, model_metrics) in enumerate(metrics.items()):\n",
    "    bar_positions = index + i * bar_width\n",
    "    metric_values = [model_metrics[metric] for metric in metric_names]\n",
    "    ax.bar(bar_positions, metric_values, bar_width, label=model_name)\n",
    "\n",
    "# Add some text for labels, title, and axes ticks\n",
    "ax.set_xlabel('Metrics')\n",
    "ax.set_ylabel('Values')\n",
    "ax.set_title('Comparison of Regression Models by Metrics for test data')\n",
    "ax.set_xticks(index + bar_width)  # Adjust this if needed to center labels\n",
    "ax.set_xticklabels(metric_names)\n",
    "ax.legend()\n",
    "\n",
    "plt.show()"
   ]
  },
  {
   "cell_type": "markdown",
   "id": "53fd61c4",
   "metadata": {},
   "source": [
    "- The Linear Regression model shows relatively higher MSE, RMSE, and MAE values, suggesting it is less accurate than the polynomial models, likely due to its inability to capture the more complex patterns in the data. The Polynomial Degree 3 model, on the other hand, demonstrates significantly better performance on these error metrics, indicating a more accurate fit on the dataset, which typically points to an effective balance between model complexity and performance.\n",
    "\n",
    "- The Polynomial Degree 9 model, while achieving similar low error metrics, stands out with a very high R-squared value nearly reaching 0.9, suggesting that it explains almost all the variability in the predicted variable. However, the closeness of R2 to 1, especially when combined with lower MSE, RMSE, and MAE values, could also indicate potential overfitting where the model fits the training data exceedingly well but may not perform similarly on unseen data. Thus, while the Polynomial Degree 9 model appears to be the most precise in terms of error reduction and data variance explanation, it might be overly complex, risking overfitting compared to the more balanced Polynomial Degree 3 model."
   ]
  },
  {
   "cell_type": "code",
   "execution_count": null,
   "id": "9b0b7d18",
   "metadata": {},
   "outputs": [],
   "source": []
  }
 ],
 "metadata": {
  "kernelspec": {
   "display_name": "Python 3 (ipykernel)",
   "language": "python",
   "name": "python3"
  },
  "language_info": {
   "codemirror_mode": {
    "name": "ipython",
    "version": 3
   },
   "file_extension": ".py",
   "mimetype": "text/x-python",
   "name": "python",
   "nbconvert_exporter": "python",
   "pygments_lexer": "ipython3",
   "version": "3.11.5"
  }
 },
 "nbformat": 4,
 "nbformat_minor": 5
}
